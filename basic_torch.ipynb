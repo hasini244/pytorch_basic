{
  "nbformat": 4,
  "nbformat_minor": 0,
  "metadata": {
    "colab": {
      "provenance": [],
      "gpuType": "T4",
      "authorship_tag": "ABX9TyO7f1SbryX7kxl68yM3wp2z",
      "include_colab_link": true
    },
    "kernelspec": {
      "name": "python3",
      "display_name": "Python 3"
    },
    "language_info": {
      "name": "python"
    },
    "accelerator": "GPU"
  },
  "cells": [
    {
      "cell_type": "markdown",
      "metadata": {
        "id": "view-in-github",
        "colab_type": "text"
      },
      "source": [
        "<a href=\"https://colab.research.google.com/github/hasini244/pytorch_basic/blob/main/basic_torch.ipynb\" target=\"_parent\"><img src=\"https://colab.research.google.com/assets/colab-badge.svg\" alt=\"Open In Colab\"/></a>"
      ]
    },
    {
      "cell_type": "code",
      "execution_count": 26,
      "metadata": {
        "id": "amhJqziKfIt7"
      },
      "outputs": [],
      "source": [
        "import torch"
      ]
    },
    {
      "cell_type": "code",
      "source": [
        "!pip list"
      ],
      "metadata": {
        "colab": {
          "base_uri": "https://localhost:8080/"
        },
        "collapsed": true,
        "id": "M5o4mlrkfVFf",
        "outputId": "c724e48d-c6b4-408c-cbf1-bdf6b3ebf758"
      },
      "execution_count": 27,
      "outputs": [
        {
          "output_type": "stream",
          "name": "stdout",
          "text": [
            "Package                            Version\n",
            "---------------------------------- -------------------\n",
            "absl-py                            1.4.0\n",
            "accelerate                         1.5.2\n",
            "aiohappyeyeballs                   2.6.1\n",
            "aiohttp                            3.11.15\n",
            "aiosignal                          1.3.2\n",
            "alabaster                          1.0.0\n",
            "albucore                           0.0.23\n",
            "albumentations                     2.0.5\n",
            "ale-py                             0.10.2\n",
            "altair                             5.5.0\n",
            "annotated-types                    0.7.0\n",
            "anyio                              4.9.0\n",
            "argon2-cffi                        23.1.0\n",
            "argon2-cffi-bindings               21.2.0\n",
            "array_record                       0.7.1\n",
            "arviz                              0.21.0\n",
            "astropy                            7.0.1\n",
            "astropy-iers-data                  0.2025.3.31.0.36.18\n",
            "astunparse                         1.6.3\n",
            "atpublic                           5.1\n",
            "attrs                              25.3.0\n",
            "audioread                          3.0.1\n",
            "autograd                           1.7.0\n",
            "babel                              2.17.0\n",
            "backcall                           0.2.0\n",
            "beautifulsoup4                     4.13.3\n",
            "betterproto                        2.0.0b6\n",
            "bigframes                          1.42.0\n",
            "bigquery-magics                    0.9.0\n",
            "bleach                             6.2.0\n",
            "blinker                            1.9.0\n",
            "blis                               1.2.1\n",
            "blosc2                             3.2.1\n",
            "bokeh                              3.6.3\n",
            "Bottleneck                         1.4.2\n",
            "bqplot                             0.12.44\n",
            "branca                             0.8.1\n",
            "CacheControl                       0.14.2\n",
            "cachetools                         5.5.2\n",
            "catalogue                          2.0.10\n",
            "certifi                            2025.1.31\n",
            "cffi                               1.17.1\n",
            "chardet                            5.2.0\n",
            "charset-normalizer                 3.4.1\n",
            "chex                               0.1.89\n",
            "clarabel                           0.10.0\n",
            "click                              8.1.8\n",
            "cloudpathlib                       0.21.0\n",
            "cloudpickle                        3.1.1\n",
            "cmake                              3.31.6\n",
            "cmdstanpy                          1.2.5\n",
            "colorcet                           3.1.0\n",
            "colorlover                         0.3.0\n",
            "colour                             0.1.5\n",
            "community                          1.0.0b1\n",
            "confection                         0.1.5\n",
            "cons                               0.4.6\n",
            "contourpy                          1.3.1\n",
            "cramjam                            2.9.1\n",
            "cryptography                       43.0.3\n",
            "cuda-python                        12.6.2.post1\n",
            "cudf-cu12                          25.2.1\n",
            "cudf-polars-cu12                   25.2.2\n",
            "cufflinks                          0.17.3\n",
            "cuml-cu12                          25.2.1\n",
            "cupy-cuda12x                       13.3.0\n",
            "cuvs-cu12                          25.2.1\n",
            "cvxopt                             1.3.2\n",
            "cvxpy                              1.6.4\n",
            "cycler                             0.12.1\n",
            "cyipopt                            1.5.0\n",
            "cymem                              2.0.11\n",
            "Cython                             3.0.12\n",
            "dask                               2024.12.1\n",
            "dask-cuda                          25.2.0\n",
            "dask-cudf-cu12                     25.2.2\n",
            "dask-expr                          1.1.21\n",
            "datascience                        0.17.6\n",
            "db-dtypes                          1.4.2\n",
            "dbus-python                        1.2.18\n",
            "debugpy                            1.8.0\n",
            "decorator                          4.4.2\n",
            "defusedxml                         0.7.1\n",
            "Deprecated                         1.2.18\n",
            "diffusers                          0.32.2\n",
            "distributed                        2024.12.1\n",
            "distributed-ucxx-cu12              0.42.0\n",
            "distro                             1.9.0\n",
            "dlib                               19.24.6\n",
            "dm-tree                            0.1.9\n",
            "docker-pycreds                     0.4.0\n",
            "docstring_parser                   0.16\n",
            "docutils                           0.21.2\n",
            "dopamine_rl                        4.1.2\n",
            "duckdb                             1.2.1\n",
            "earthengine-api                    1.5.9\n",
            "easydict                           1.13\n",
            "editdistance                       0.8.1\n",
            "eerepr                             0.1.1\n",
            "einops                             0.8.1\n",
            "en_core_web_sm                     3.8.0\n",
            "entrypoints                        0.4\n",
            "et_xmlfile                         2.0.0\n",
            "etils                              1.12.2\n",
            "etuples                            0.3.9\n",
            "Farama-Notifications               0.0.4\n",
            "fastai                             2.7.19\n",
            "fastcore                           1.7.29\n",
            "fastdownload                       0.0.7\n",
            "fastjsonschema                     2.21.1\n",
            "fastprogress                       1.0.3\n",
            "fastrlock                          0.8.3\n",
            "filelock                           3.18.0\n",
            "firebase-admin                     6.7.0\n",
            "Flask                              3.1.0\n",
            "flatbuffers                        25.2.10\n",
            "flax                               0.10.5\n",
            "folium                             0.19.5\n",
            "fonttools                          4.57.0\n",
            "frozendict                         2.4.6\n",
            "frozenlist                         1.5.0\n",
            "fsspec                             2025.3.2\n",
            "future                             1.0.0\n",
            "gast                               0.6.0\n",
            "gcsfs                              2025.3.2\n",
            "GDAL                               3.6.4\n",
            "gdown                              5.2.0\n",
            "geemap                             0.35.3\n",
            "geocoder                           1.38.1\n",
            "geographiclib                      2.0\n",
            "geopandas                          1.0.1\n",
            "geopy                              2.4.1\n",
            "gin-config                         0.5.0\n",
            "gitdb                              4.0.12\n",
            "GitPython                          3.1.44\n",
            "glob2                              0.7\n",
            "google                             2.0.3\n",
            "google-ai-generativelanguage       0.6.15\n",
            "google-api-core                    2.24.2\n",
            "google-api-python-client           2.164.0\n",
            "google-auth                        2.38.0\n",
            "google-auth-httplib2               0.2.0\n",
            "google-auth-oauthlib               1.2.1\n",
            "google-cloud-aiplatform            1.87.0\n",
            "google-cloud-bigquery              3.31.0\n",
            "google-cloud-bigquery-connection   1.18.2\n",
            "google-cloud-bigquery-storage      2.30.0\n",
            "google-cloud-bigtable              2.30.0\n",
            "google-cloud-core                  2.4.3\n",
            "google-cloud-dataproc              5.18.1\n",
            "google-cloud-datastore             2.20.2\n",
            "google-cloud-firestore             2.20.1\n",
            "google-cloud-functions             1.20.2\n",
            "google-cloud-iam                   2.18.3\n",
            "google-cloud-language              2.17.1\n",
            "google-cloud-pubsub                2.29.0\n",
            "google-cloud-resource-manager      1.14.2\n",
            "google-cloud-spanner               3.53.0\n",
            "google-cloud-storage               2.19.0\n",
            "google-cloud-translate             3.20.2\n",
            "google-colab                       1.0.0\n",
            "google-crc32c                      1.7.1\n",
            "google-genai                       1.9.0\n",
            "google-generativeai                0.8.4\n",
            "google-pasta                       0.2.0\n",
            "google-resumable-media             2.7.2\n",
            "google-spark-connect               0.5.2\n",
            "googleapis-common-protos           1.69.2\n",
            "googledrivedownloader              1.1.0\n",
            "graphviz                           0.20.3\n",
            "greenlet                           3.1.1\n",
            "grpc-google-iam-v1                 0.14.2\n",
            "grpc-interceptor                   0.15.4\n",
            "grpcio                             1.71.0\n",
            "grpcio-status                      1.71.0\n",
            "grpclib                            0.4.7\n",
            "gspread                            6.2.0\n",
            "gspread-dataframe                  4.0.0\n",
            "gym                                0.25.2\n",
            "gym-notices                        0.0.8\n",
            "gymnasium                          1.1.1\n",
            "h11                                0.14.0\n",
            "h2                                 4.2.0\n",
            "h5netcdf                           1.6.1\n",
            "h5py                               3.13.0\n",
            "hdbscan                            0.8.40\n",
            "highspy                            1.9.0\n",
            "holidays                           0.69\n",
            "holoviews                          1.20.2\n",
            "hpack                              4.1.0\n",
            "html5lib                           1.1\n",
            "httpcore                           1.0.7\n",
            "httpimport                         1.4.1\n",
            "httplib2                           0.22.0\n",
            "httpx                              0.28.1\n",
            "huggingface-hub                    0.30.1\n",
            "humanize                           4.12.2\n",
            "hyperframe                         6.1.0\n",
            "hyperopt                           0.2.7\n",
            "ibis-framework                     9.5.0\n",
            "idna                               3.10\n",
            "imageio                            2.37.0\n",
            "imageio-ffmpeg                     0.6.0\n",
            "imagesize                          1.4.1\n",
            "imbalanced-learn                   0.13.0\n",
            "immutabledict                      4.2.1\n",
            "importlib_metadata                 8.6.1\n",
            "importlib_resources                6.5.2\n",
            "imutils                            0.5.4\n",
            "inflect                            7.5.0\n",
            "iniconfig                          2.1.0\n",
            "intel-cmplr-lib-ur                 2025.1.0\n",
            "intel-openmp                       2025.1.0\n",
            "ipyevents                          2.0.2\n",
            "ipyfilechooser                     0.6.0\n",
            "ipykernel                          6.17.1\n",
            "ipyleaflet                         0.19.2\n",
            "ipyparallel                        8.8.0\n",
            "ipython                            7.34.0\n",
            "ipython-genutils                   0.2.0\n",
            "ipython-sql                        0.5.0\n",
            "ipytree                            0.2.2\n",
            "ipywidgets                         7.7.1\n",
            "itsdangerous                       2.2.0\n",
            "jax                                0.5.2\n",
            "jax-cuda12-pjrt                    0.5.1\n",
            "jax-cuda12-plugin                  0.5.1\n",
            "jaxlib                             0.5.1\n",
            "jeepney                            0.7.1\n",
            "jellyfish                          1.1.0\n",
            "jieba                              0.42.1\n",
            "Jinja2                             3.1.6\n",
            "jiter                              0.9.0\n",
            "joblib                             1.4.2\n",
            "jsonpatch                          1.33\n",
            "jsonpickle                         4.0.5\n",
            "jsonpointer                        3.0.0\n",
            "jsonschema                         4.23.0\n",
            "jsonschema-specifications          2024.10.1\n",
            "jupyter-client                     6.1.12\n",
            "jupyter-console                    6.1.0\n",
            "jupyter_core                       5.7.2\n",
            "jupyter-leaflet                    0.19.2\n",
            "jupyter-server                     1.16.0\n",
            "jupyterlab_pygments                0.3.0\n",
            "jupyterlab_widgets                 3.0.13\n",
            "kaggle                             1.7.4.2\n",
            "kagglehub                          0.3.11\n",
            "keras                              3.8.0\n",
            "keras-hub                          0.18.1\n",
            "keras-nlp                          0.18.1\n",
            "keyring                            23.5.0\n",
            "kiwisolver                         1.4.8\n",
            "langchain                          0.3.22\n",
            "langchain-core                     0.3.50\n",
            "langchain-text-splitters           0.3.7\n",
            "langcodes                          3.5.0\n",
            "langsmith                          0.3.23\n",
            "language_data                      1.3.0\n",
            "launchpadlib                       1.10.16\n",
            "lazr.restfulclient                 0.14.4\n",
            "lazr.uri                           1.0.6\n",
            "lazy_loader                        0.4\n",
            "libclang                           18.1.1\n",
            "libcudf-cu12                       25.2.1\n",
            "libcugraph-cu12                    25.2.0\n",
            "libcuml-cu12                       25.2.1\n",
            "libcuvs-cu12                       25.2.1\n",
            "libkvikio-cu12                     25.2.1\n",
            "libraft-cu12                       25.2.0\n",
            "librosa                            0.11.0\n",
            "libucx-cu12                        1.18.0\n",
            "libucxx-cu12                       0.42.0\n",
            "lightgbm                           4.5.0\n",
            "linkify-it-py                      2.0.3\n",
            "llvmlite                           0.43.0\n",
            "locket                             1.0.0\n",
            "logical-unification                0.4.6\n",
            "lxml                               5.3.1\n",
            "Mako                               1.1.3\n",
            "marisa-trie                        1.2.1\n",
            "Markdown                           3.7\n",
            "markdown-it-py                     3.0.0\n",
            "MarkupSafe                         3.0.2\n",
            "matplotlib                         3.10.0\n",
            "matplotlib-inline                  0.1.7\n",
            "matplotlib-venn                    1.1.2\n",
            "mdit-py-plugins                    0.4.2\n",
            "mdurl                              0.1.2\n",
            "miniKanren                         1.0.3\n",
            "missingno                          0.5.2\n",
            "mistune                            3.1.3\n",
            "mizani                             0.13.2\n",
            "mkl                                2025.0.1\n",
            "ml-dtypes                          0.4.1\n",
            "mlxtend                            0.23.4\n",
            "more-itertools                     10.6.0\n",
            "moviepy                            1.0.3\n",
            "mpmath                             1.3.0\n",
            "msgpack                            1.1.0\n",
            "multidict                          6.2.0\n",
            "multipledispatch                   1.0.0\n",
            "multitasking                       0.0.11\n",
            "murmurhash                         1.0.12\n",
            "music21                            9.3.0\n",
            "namex                              0.0.8\n",
            "narwhals                           1.33.0\n",
            "natsort                            8.4.0\n",
            "nbclassic                          1.2.0\n",
            "nbclient                           0.10.2\n",
            "nbconvert                          7.16.6\n",
            "nbformat                           5.10.4\n",
            "ndindex                            1.9.2\n",
            "nest-asyncio                       1.6.0\n",
            "networkx                           3.4.2\n",
            "nibabel                            5.3.2\n",
            "nltk                               3.9.1\n",
            "notebook                           6.5.7\n",
            "notebook_shim                      0.2.4\n",
            "numba                              0.60.0\n",
            "numba-cuda                         0.2.0\n",
            "numexpr                            2.10.2\n",
            "numpy                              2.0.2\n",
            "nvidia-cublas-cu12                 12.5.3.2\n",
            "nvidia-cuda-cupti-cu12             12.5.82\n",
            "nvidia-cuda-nvcc-cu12              12.5.82\n",
            "nvidia-cuda-nvrtc-cu12             12.5.82\n",
            "nvidia-cuda-runtime-cu12           12.5.82\n",
            "nvidia-cudnn-cu12                  9.3.0.75\n",
            "nvidia-cufft-cu12                  11.2.3.61\n",
            "nvidia-curand-cu12                 10.3.6.82\n",
            "nvidia-cusolver-cu12               11.6.3.83\n",
            "nvidia-cusparse-cu12               12.5.1.3\n",
            "nvidia-cusparselt-cu12             0.6.2\n",
            "nvidia-ml-py                       12.570.86\n",
            "nvidia-nccl-cu12                   2.21.5\n",
            "nvidia-nvcomp-cu12                 4.2.0.11\n",
            "nvidia-nvjitlink-cu12              12.5.82\n",
            "nvidia-nvtx-cu12                   12.4.127\n",
            "nvtx                               0.2.11\n",
            "nx-cugraph-cu12                    25.2.0\n",
            "oauth2client                       4.1.3\n",
            "oauthlib                           3.2.2\n",
            "openai                             1.70.0\n",
            "opencv-contrib-python              4.11.0.86\n",
            "opencv-python                      4.11.0.86\n",
            "opencv-python-headless             4.11.0.86\n",
            "openpyxl                           3.1.5\n",
            "opentelemetry-api                  1.31.1\n",
            "opentelemetry-sdk                  1.31.1\n",
            "opentelemetry-semantic-conventions 0.52b1\n",
            "opt_einsum                         3.4.0\n",
            "optax                              0.2.4\n",
            "optree                             0.14.1\n",
            "orbax-checkpoint                   0.11.10\n",
            "orjson                             3.10.16\n",
            "osqp                               1.0.3\n",
            "packaging                          24.2\n",
            "pandas                             2.2.2\n",
            "pandas-datareader                  0.10.0\n",
            "pandas-gbq                         0.28.0\n",
            "pandas-stubs                       2.2.2.240909\n",
            "pandocfilters                      1.5.1\n",
            "panel                              1.6.2\n",
            "param                              2.2.0\n",
            "parso                              0.8.4\n",
            "parsy                              2.1\n",
            "partd                              1.4.2\n",
            "pathlib                            1.0.1\n",
            "patsy                              1.0.1\n",
            "peewee                             3.17.9\n",
            "peft                               0.14.0\n",
            "pexpect                            4.9.0\n",
            "pickleshare                        0.7.5\n",
            "pillow                             11.1.0\n",
            "pip                                24.1.2\n",
            "platformdirs                       4.3.7\n",
            "plotly                             5.24.1\n",
            "plotnine                           0.14.5\n",
            "pluggy                             1.5.0\n",
            "ply                                3.11\n",
            "polars                             1.21.0\n",
            "pooch                              1.8.2\n",
            "portpicker                         1.5.2\n",
            "preshed                            3.0.9\n",
            "prettytable                        3.16.0\n",
            "proglog                            0.1.11\n",
            "progressbar2                       4.5.0\n",
            "prometheus_client                  0.21.1\n",
            "promise                            2.3\n",
            "prompt_toolkit                     3.0.50\n",
            "propcache                          0.3.1\n",
            "prophet                            1.1.6\n",
            "proto-plus                         1.26.1\n",
            "protobuf                           5.29.4\n",
            "psutil                             5.9.5\n",
            "psycopg2                           2.9.10\n",
            "ptyprocess                         0.7.0\n",
            "py-cpuinfo                         9.0.0\n",
            "py4j                               0.10.9.7\n",
            "pyarrow                            18.1.0\n",
            "pyasn1                             0.6.1\n",
            "pyasn1_modules                     0.4.2\n",
            "pycairo                            1.27.0\n",
            "pycocotools                        2.0.8\n",
            "pycparser                          2.22\n",
            "pydantic                           2.11.2\n",
            "pydantic_core                      2.33.1\n",
            "pydata-google-auth                 1.9.1\n",
            "pydot                              3.0.4\n",
            "pydotplus                          2.0.2\n",
            "PyDrive                            1.3.1\n",
            "PyDrive2                           1.21.3\n",
            "pyerfa                             2.0.1.5\n",
            "pygame                             2.6.1\n",
            "pygit2                             1.17.0\n",
            "Pygments                           2.18.0\n",
            "PyGObject                          3.42.0\n",
            "PyJWT                              2.10.1\n",
            "pylibcudf-cu12                     25.2.1\n",
            "pylibcugraph-cu12                  25.2.0\n",
            "pylibraft-cu12                     25.2.0\n",
            "pymc                               5.21.2\n",
            "pymystem3                          0.2.0\n",
            "pynndescent                        0.5.13\n",
            "pynvjitlink-cu12                   0.5.2\n",
            "pynvml                             12.0.0\n",
            "pyogrio                            0.10.0\n",
            "Pyomo                              6.8.2\n",
            "PyOpenGL                           3.1.9\n",
            "pyOpenSSL                          24.2.1\n",
            "pyparsing                          3.2.3\n",
            "pyperclip                          1.9.0\n",
            "pyproj                             3.7.1\n",
            "pyshp                              2.3.1\n",
            "PySocks                            1.7.1\n",
            "pyspark                            3.5.5\n",
            "pytensor                           2.30.2\n",
            "pytest                             8.3.5\n",
            "python-apt                         0.0.0\n",
            "python-box                         7.3.2\n",
            "python-dateutil                    2.8.2\n",
            "python-louvain                     0.16\n",
            "python-slugify                     8.0.4\n",
            "python-snappy                      0.7.3\n",
            "python-utils                       3.9.1\n",
            "pytz                               2025.2\n",
            "pyviz_comms                        3.0.4\n",
            "PyYAML                             6.0.2\n",
            "pyzmq                              24.0.1\n",
            "raft-dask-cu12                     25.2.0\n",
            "rapids-dask-dependency             25.2.0\n",
            "ratelim                            0.1.6\n",
            "referencing                        0.36.2\n",
            "regex                              2024.11.6\n",
            "requests                           2.32.3\n",
            "requests-oauthlib                  2.0.0\n",
            "requests-toolbelt                  1.0.0\n",
            "requirements-parser                0.9.0\n",
            "rich                               13.9.4\n",
            "rmm-cu12                           25.2.0\n",
            "roman-numerals-py                  3.1.0\n",
            "rpds-py                            0.24.0\n",
            "rpy2                               3.5.17\n",
            "rsa                                4.9\n",
            "safetensors                        0.5.3\n",
            "scikit-image                       0.25.2\n",
            "scikit-learn                       1.6.1\n",
            "scipy                              1.14.1\n",
            "scooby                             0.10.0\n",
            "scs                                3.2.7.post2\n",
            "seaborn                            0.13.2\n",
            "SecretStorage                      3.3.1\n",
            "Send2Trash                         1.8.3\n",
            "sentence-transformers              3.4.1\n",
            "sentencepiece                      0.2.0\n",
            "sentry-sdk                         2.25.1\n",
            "setproctitle                       1.3.5\n",
            "setuptools                         75.2.0\n",
            "shap                               0.47.1\n",
            "shapely                            2.1.0\n",
            "shellingham                        1.5.4\n",
            "simple-parsing                     0.1.7\n",
            "simplejson                         3.20.1\n",
            "simsimd                            6.2.1\n",
            "six                                1.17.0\n",
            "sklearn-compat                     0.1.3\n",
            "sklearn-pandas                     2.2.0\n",
            "slicer                             0.0.8\n",
            "smart-open                         7.1.0\n",
            "smmap                              5.0.2\n",
            "sniffio                            1.3.1\n",
            "snowballstemmer                    2.2.0\n",
            "sortedcontainers                   2.4.0\n",
            "soundfile                          0.13.1\n",
            "soupsieve                          2.6\n",
            "soxr                               0.5.0.post1\n",
            "spacy                              3.8.5\n",
            "spacy-legacy                       3.0.12\n",
            "spacy-loggers                      1.0.5\n",
            "spanner-graph-notebook             1.1.6\n",
            "Sphinx                             8.2.3\n",
            "sphinxcontrib-applehelp            2.0.0\n",
            "sphinxcontrib-devhelp              2.0.0\n",
            "sphinxcontrib-htmlhelp             2.1.0\n",
            "sphinxcontrib-jsmath               1.0.1\n",
            "sphinxcontrib-qthelp               2.0.0\n",
            "sphinxcontrib-serializinghtml      2.0.0\n",
            "SQLAlchemy                         2.0.40\n",
            "sqlglot                            25.20.2\n",
            "sqlparse                           0.5.3\n",
            "srsly                              2.5.1\n",
            "stanio                             0.5.1\n",
            "statsmodels                        0.14.4\n",
            "stringzilla                        3.12.3\n",
            "sympy                              1.13.1\n",
            "tables                             3.10.2\n",
            "tabulate                           0.9.0\n",
            "tbb                                2022.1.0\n",
            "tblib                              3.1.0\n",
            "tcmlib                             1.3.0\n",
            "tenacity                           9.1.2\n",
            "tensorboard                        2.18.0\n",
            "tensorboard-data-server            0.7.2\n",
            "tensorflow                         2.18.0\n",
            "tensorflow-datasets                4.9.8\n",
            "tensorflow-hub                     0.16.1\n",
            "tensorflow-io-gcs-filesystem       0.37.1\n",
            "tensorflow-metadata                1.17.0\n",
            "tensorflow-probability             0.25.0\n",
            "tensorflow-text                    2.18.1\n",
            "tensorstore                        0.1.73\n",
            "termcolor                          3.0.1\n",
            "terminado                          0.18.1\n",
            "text-unidecode                     1.3\n",
            "textblob                           0.19.0\n",
            "tf_keras                           2.18.0\n",
            "tf-slim                            1.1.0\n",
            "thinc                              8.3.4\n",
            "threadpoolctl                      3.6.0\n",
            "tifffile                           2025.3.30\n",
            "timm                               1.0.15\n",
            "tinycss2                           1.4.0\n",
            "tokenizers                         0.21.1\n",
            "toml                               0.10.2\n",
            "toolz                              0.12.1\n",
            "torch                              2.6.0+cu124\n",
            "torchaudio                         2.6.0+cu124\n",
            "torchsummary                       1.5.1\n",
            "torchvision                        0.21.0+cu124\n",
            "tornado                            6.4.2\n",
            "tqdm                               4.67.1\n",
            "traitlets                          5.7.1\n",
            "traittypes                         0.2.1\n",
            "transformers                       4.50.3\n",
            "treelite                           4.4.1\n",
            "treescope                          0.1.9\n",
            "triton                             3.2.0\n",
            "tweepy                             4.15.0\n",
            "typeguard                          4.4.2\n",
            "typer                              0.15.2\n",
            "types-pytz                         2025.2.0.20250326\n",
            "types-setuptools                   78.1.0.20250329\n",
            "typing_extensions                  4.13.1\n",
            "typing-inspection                  0.4.0\n",
            "tzdata                             2025.2\n",
            "tzlocal                            5.3.1\n",
            "uc-micro-py                        1.0.3\n",
            "ucx-py-cu12                        0.42.0\n",
            "ucxx-cu12                          0.42.0\n",
            "umap-learn                         0.5.7\n",
            "umf                                0.10.0\n",
            "uritemplate                        4.1.1\n",
            "urllib3                            2.3.0\n",
            "vega-datasets                      0.9.0\n",
            "wadllib                            1.3.6\n",
            "wandb                              0.19.9\n",
            "wasabi                             1.1.3\n",
            "wcwidth                            0.2.13\n",
            "weasel                             0.4.1\n",
            "webcolors                          24.11.1\n",
            "webencodings                       0.5.1\n",
            "websocket-client                   1.8.0\n",
            "websockets                         15.0.1\n",
            "Werkzeug                           3.1.3\n",
            "wheel                              0.45.1\n",
            "widgetsnbextension                 3.6.10\n",
            "wordcloud                          1.9.4\n",
            "wrapt                              1.17.2\n",
            "xarray                             2025.1.2\n",
            "xarray-einstats                    0.8.0\n",
            "xgboost                            2.1.4\n",
            "xlrd                               2.0.1\n",
            "xyzservices                        2025.1.0\n",
            "yarl                               1.18.3\n",
            "yellowbrick                        1.5\n",
            "yfinance                           0.2.55\n",
            "zict                               3.0.0\n",
            "zipp                               3.21.0\n",
            "zstandard                          0.23.0\n"
          ]
        }
      ]
    },
    {
      "cell_type": "markdown",
      "source": [
        "```\n",
        "Tensors are a specialized data structure that are very similar to arrays and matrices. In PyTorch, we use tensors to encode the inputs and outputs of a model, as well as the model’s parameters.```"
      ],
      "metadata": {
        "id": "7WOOXRPtia49"
      }
    },
    {
      "cell_type": "code",
      "source": [
        "import torch\n",
        "import numpy as np"
      ],
      "metadata": {
        "id": "cTGUN89pfXpd"
      },
      "execution_count": 28,
      "outputs": []
    },
    {
      "cell_type": "markdown",
      "source": [
        "**List**"
      ],
      "metadata": {
        "id": "6DjdWKF9i7KH"
      }
    },
    {
      "cell_type": "code",
      "source": [
        "# single List/like single array\n",
        "my_list1 = [1,2,3,4]\n",
        "my_list1"
      ],
      "metadata": {
        "colab": {
          "base_uri": "https://localhost:8080/"
        },
        "id": "pcsAKn2gi6wR",
        "outputId": "9a881e0a-3a8e-4757-ddb8-d4fcdd7e9fa8"
      },
      "execution_count": 29,
      "outputs": [
        {
          "output_type": "execute_result",
          "data": {
            "text/plain": [
              "[1, 2, 3, 4]"
            ]
          },
          "metadata": {},
          "execution_count": 29
        }
      ]
    },
    {
      "cell_type": "code",
      "source": [
        "# multiple List/like multiple array\n",
        "my_list1 = [[1,2,3,4],[\"a\",\"b\",6,7]]\n",
        "my_list1"
      ],
      "metadata": {
        "colab": {
          "base_uri": "https://localhost:8080/"
        },
        "id": "pGTNWw5BjMyV",
        "outputId": "12a8ba72-ea1c-439e-f351-6a76bac9b6ac"
      },
      "execution_count": 30,
      "outputs": [
        {
          "output_type": "execute_result",
          "data": {
            "text/plain": [
              "[[1, 2, 3, 4], ['a', 'b', 6, 7]]"
            ]
          },
          "metadata": {},
          "execution_count": 30
        }
      ]
    },
    {
      "cell_type": "markdown",
      "source": [
        "**Numpy Array**"
      ],
      "metadata": {
        "id": "gHNXjCnYkBkZ"
      }
    },
    {
      "cell_type": "code",
      "source": [
        "np1 = np.random.rand(3,4)\n",
        "np1"
      ],
      "metadata": {
        "colab": {
          "base_uri": "https://localhost:8080/"
        },
        "id": "Epf3HYaQjY8K",
        "outputId": "d1fd6444-3049-42cd-f947-9dda6624c408"
      },
      "execution_count": 31,
      "outputs": [
        {
          "output_type": "execute_result",
          "data": {
            "text/plain": [
              "array([[0.11627507, 0.51149327, 0.76068672, 0.55778405],\n",
              "       [0.53270333, 0.30069602, 0.56764835, 0.71814854],\n",
              "       [0.13123874, 0.19990055, 0.93726396, 0.94578325]])"
            ]
          },
          "metadata": {},
          "execution_count": 31
        }
      ]
    },
    {
      "cell_type": "code",
      "source": [
        "np1.dtype"
      ],
      "metadata": {
        "colab": {
          "base_uri": "https://localhost:8080/"
        },
        "id": "v0cMmZtnktvk",
        "outputId": "a50a06e5-8aac-4ae7-8a24-21f7588047ed"
      },
      "execution_count": 32,
      "outputs": [
        {
          "output_type": "execute_result",
          "data": {
            "text/plain": [
              "dtype('float64')"
            ]
          },
          "metadata": {},
          "execution_count": 32
        }
      ]
    },
    {
      "cell_type": "markdown",
      "source": [
        "**Tensors**"
      ],
      "metadata": {
        "id": "a0ekwdkRkVyb"
      }
    },
    {
      "cell_type": "code",
      "source": [
        "torch_2d =torch.randn(3,4)\n",
        "torch_2d"
      ],
      "metadata": {
        "colab": {
          "base_uri": "https://localhost:8080/"
        },
        "id": "XK4ztBpxkLdN",
        "outputId": "35fccb47-526c-47ef-8d2c-663618f85202"
      },
      "execution_count": 33,
      "outputs": [
        {
          "output_type": "execute_result",
          "data": {
            "text/plain": [
              "tensor([[ 0.1856, -0.7798, -1.4723, -1.8088],\n",
              "        [-0.1287,  0.9819, -1.0504, -2.1112],\n",
              "        [-1.6784, -1.0515,  0.1677, -1.3358]])"
            ]
          },
          "metadata": {},
          "execution_count": 33
        }
      ]
    },
    {
      "cell_type": "code",
      "source": [
        "torch_3d =torch.zeros(2,3,4)\n",
        "torch_3d"
      ],
      "metadata": {
        "colab": {
          "base_uri": "https://localhost:8080/"
        },
        "id": "8PMidHrHlj9Q",
        "outputId": "bfde8ca5-caab-47fa-9115-d169df33fc5c"
      },
      "execution_count": 34,
      "outputs": [
        {
          "output_type": "execute_result",
          "data": {
            "text/plain": [
              "tensor([[[0., 0., 0., 0.],\n",
              "         [0., 0., 0., 0.],\n",
              "         [0., 0., 0., 0.]],\n",
              "\n",
              "        [[0., 0., 0., 0.],\n",
              "         [0., 0., 0., 0.],\n",
              "         [0., 0., 0., 0.]]])"
            ]
          },
          "metadata": {},
          "execution_count": 34
        }
      ]
    },
    {
      "cell_type": "code",
      "source": [
        "torch_2d.dtype"
      ],
      "metadata": {
        "colab": {
          "base_uri": "https://localhost:8080/"
        },
        "id": "ZAfO8__XmYDg",
        "outputId": "2b723941-111f-45c0-c026-d39d5cc7a68f"
      },
      "execution_count": 35,
      "outputs": [
        {
          "output_type": "execute_result",
          "data": {
            "text/plain": [
              "torch.float32"
            ]
          },
          "metadata": {},
          "execution_count": 35
        }
      ]
    },
    {
      "cell_type": "code",
      "source": [
        "# conver numpy array to tensors\n",
        "my_tensor = torch.tensor(np1)\n",
        "my_tensor"
      ],
      "metadata": {
        "colab": {
          "base_uri": "https://localhost:8080/"
        },
        "id": "LucXWaXAl1vs",
        "outputId": "e713d11e-b0af-4d23-b9b2-1c253a3c52a7"
      },
      "execution_count": 36,
      "outputs": [
        {
          "output_type": "execute_result",
          "data": {
            "text/plain": [
              "tensor([[0.1163, 0.5115, 0.7607, 0.5578],\n",
              "        [0.5327, 0.3007, 0.5676, 0.7181],\n",
              "        [0.1312, 0.1999, 0.9373, 0.9458]], dtype=torch.float64)"
            ]
          },
          "metadata": {},
          "execution_count": 36
        }
      ]
    },
    {
      "cell_type": "markdown",
      "source": [
        "```\n",
        "this tensors -float32\n",
        "but np arrays flaot64\n",
        "\n",
        "```\n"
      ],
      "metadata": {
        "id": "6ko6Lyrbmy3H"
      }
    },
    {
      "cell_type": "markdown",
      "source": [
        "**Reshape**"
      ],
      "metadata": {
        "id": "-2oMbRw6n91e"
      }
    },
    {
      "cell_type": "code",
      "source": [
        "my_torch = torch.arange(10)\n",
        "my_torch"
      ],
      "metadata": {
        "colab": {
          "base_uri": "https://localhost:8080/"
        },
        "id": "c_W1RRFMmLJ2",
        "outputId": "967a2b23-9715-48bc-db3d-34075e8a9719"
      },
      "execution_count": 37,
      "outputs": [
        {
          "output_type": "execute_result",
          "data": {
            "text/plain": [
              "tensor([0, 1, 2, 3, 4, 5, 6, 7, 8, 9])"
            ]
          },
          "metadata": {},
          "execution_count": 37
        }
      ]
    },
    {
      "cell_type": "code",
      "source": [
        "my_torch1=my_torch.reshape(2,5)\n",
        "my_torch1"
      ],
      "metadata": {
        "colab": {
          "base_uri": "https://localhost:8080/"
        },
        "id": "vokavoKJoNgk",
        "outputId": "44a38555-a644-4128-8b80-ca521e480402"
      },
      "execution_count": 38,
      "outputs": [
        {
          "output_type": "execute_result",
          "data": {
            "text/plain": [
              "tensor([[0, 1, 2, 3, 4],\n",
              "        [5, 6, 7, 8, 9]])"
            ]
          },
          "metadata": {},
          "execution_count": 38
        }
      ]
    },
    {
      "cell_type": "code",
      "source": [
        "my_torch1=my_torch.reshape(2,-1)\n",
        "my_torch1"
      ],
      "metadata": {
        "colab": {
          "base_uri": "https://localhost:8080/"
        },
        "id": "80MYDat9oWpl",
        "outputId": "c8f35e37-be31-43ae-febe-3a17cf0f39dc"
      },
      "execution_count": 39,
      "outputs": [
        {
          "output_type": "execute_result",
          "data": {
            "text/plain": [
              "tensor([[0, 1, 2, 3, 4],\n",
              "        [5, 6, 7, 8, 9]])"
            ]
          },
          "metadata": {},
          "execution_count": 39
        }
      ]
    },
    {
      "cell_type": "code",
      "source": [
        "my_torch1=my_torch.reshape(-1,5)\n",
        "my_torch1"
      ],
      "metadata": {
        "colab": {
          "base_uri": "https://localhost:8080/"
        },
        "id": "-KCD1aibobsv",
        "outputId": "68c1a119-3090-4b62-c7f8-eacdc15f101d"
      },
      "execution_count": 40,
      "outputs": [
        {
          "output_type": "execute_result",
          "data": {
            "text/plain": [
              "tensor([[0, 1, 2, 3, 4],\n",
              "        [5, 6, 7, 8, 9]])"
            ]
          },
          "metadata": {},
          "execution_count": 40
        }
      ]
    },
    {
      "cell_type": "markdown",
      "source": [
        "**there is a difference between Reshape and view**"
      ],
      "metadata": {
        "id": "96U9LKOKp1E8"
      }
    },
    {
      "cell_type": "markdown",
      "source": [
        "**if reshape and view update when we upadate tensor**"
      ],
      "metadata": {
        "id": "bx4b6nMVqAm2"
      }
    },
    {
      "cell_type": "code",
      "source": [
        "my_torch3=torch.arange(10)\n",
        "my_torch3"
      ],
      "metadata": {
        "colab": {
          "base_uri": "https://localhost:8080/"
        },
        "id": "ZurttcDYqAOv",
        "outputId": "f9e4a554-80ea-45bb-9d25-a03a5f7a6aa4"
      },
      "execution_count": 41,
      "outputs": [
        {
          "output_type": "execute_result",
          "data": {
            "text/plain": [
              "tensor([0, 1, 2, 3, 4, 5, 6, 7, 8, 9])"
            ]
          },
          "metadata": {},
          "execution_count": 41
        }
      ]
    },
    {
      "cell_type": "code",
      "source": [
        "my_torch4=my_torch3.reshape(2,5)\n",
        "my_torch4"
      ],
      "metadata": {
        "colab": {
          "base_uri": "https://localhost:8080/"
        },
        "id": "Y8CicPgboeA6",
        "outputId": "89fda26f-cedc-46e1-b136-f9962e60602c"
      },
      "execution_count": 42,
      "outputs": [
        {
          "output_type": "execute_result",
          "data": {
            "text/plain": [
              "tensor([[0, 1, 2, 3, 4],\n",
              "        [5, 6, 7, 8, 9]])"
            ]
          },
          "metadata": {},
          "execution_count": 42
        }
      ]
    },
    {
      "cell_type": "code",
      "source": [
        "my_torch3[1]=1234\n",
        "my_torch3"
      ],
      "metadata": {
        "colab": {
          "base_uri": "https://localhost:8080/"
        },
        "id": "bMm1iB1yqXa7",
        "outputId": "de448104-4f6c-433a-d70b-776b2c2672c3"
      },
      "execution_count": 43,
      "outputs": [
        {
          "output_type": "execute_result",
          "data": {
            "text/plain": [
              "tensor([   0, 1234,    2,    3,    4,    5,    6,    7,    8,    9])"
            ]
          },
          "metadata": {},
          "execution_count": 43
        }
      ]
    },
    {
      "cell_type": "code",
      "source": [
        "my_torch4"
      ],
      "metadata": {
        "colab": {
          "base_uri": "https://localhost:8080/"
        },
        "id": "CfboeeaZqe9h",
        "outputId": "688ce946-a8df-4b80-c05b-60a7154cf00b"
      },
      "execution_count": 44,
      "outputs": [
        {
          "output_type": "execute_result",
          "data": {
            "text/plain": [
              "tensor([[   0, 1234,    2,    3,    4],\n",
              "        [   5,    6,    7,    8,    9]])"
            ]
          },
          "metadata": {},
          "execution_count": 44
        }
      ]
    },
    {
      "cell_type": "code",
      "source": [
        "my_torch3=torch.arange(15)\n",
        "my_torch3"
      ],
      "metadata": {
        "colab": {
          "base_uri": "https://localhost:8080/"
        },
        "id": "_9mwR68SqjQC",
        "outputId": "ca952132-9922-46ea-c7ba-d133a0dbe237"
      },
      "execution_count": 45,
      "outputs": [
        {
          "output_type": "execute_result",
          "data": {
            "text/plain": [
              "tensor([ 0,  1,  2,  3,  4,  5,  6,  7,  8,  9, 10, 11, 12, 13, 14])"
            ]
          },
          "metadata": {},
          "execution_count": 45
        }
      ]
    },
    {
      "cell_type": "code",
      "source": [
        "my_torch4=my_torch3.reshape(3,5)\n",
        "my_torch4"
      ],
      "metadata": {
        "colab": {
          "base_uri": "https://localhost:8080/"
        },
        "id": "MxLBlkowrYC3",
        "outputId": "8d983527-6c61-41a2-dcc5-fc993ae2072c"
      },
      "execution_count": 46,
      "outputs": [
        {
          "output_type": "execute_result",
          "data": {
            "text/plain": [
              "tensor([[ 0,  1,  2,  3,  4],\n",
              "        [ 5,  6,  7,  8,  9],\n",
              "        [10, 11, 12, 13, 14]])"
            ]
          },
          "metadata": {},
          "execution_count": 46
        }
      ]
    },
    {
      "cell_type": "code",
      "source": [
        "my_torch4[:,1]"
      ],
      "metadata": {
        "colab": {
          "base_uri": "https://localhost:8080/"
        },
        "id": "bgUPtLz-rbQC",
        "outputId": "01370e3d-6a60-4b2d-d6c1-ca0f97a36df2"
      },
      "execution_count": 47,
      "outputs": [
        {
          "output_type": "execute_result",
          "data": {
            "text/plain": [
              "tensor([ 1,  6, 11])"
            ]
          },
          "metadata": {},
          "execution_count": 47
        }
      ]
    },
    {
      "cell_type": "code",
      "source": [
        "my_torch4[:1]"
      ],
      "metadata": {
        "colab": {
          "base_uri": "https://localhost:8080/"
        },
        "id": "LNt3-RJErjVh",
        "outputId": "6635979e-8061-480f-95a7-8498c5fce840"
      },
      "execution_count": 48,
      "outputs": [
        {
          "output_type": "execute_result",
          "data": {
            "text/plain": [
              "tensor([[0, 1, 2, 3, 4]])"
            ]
          },
          "metadata": {},
          "execution_count": 48
        }
      ]
    },
    {
      "cell_type": "code",
      "source": [
        "my_torch4[:,1:]"
      ],
      "metadata": {
        "colab": {
          "base_uri": "https://localhost:8080/"
        },
        "id": "J54l9Lk1rqEl",
        "outputId": "1d17e978-d17e-4277-aea5-792a13292417"
      },
      "execution_count": 49,
      "outputs": [
        {
          "output_type": "execute_result",
          "data": {
            "text/plain": [
              "tensor([[ 1,  2,  3,  4],\n",
              "        [ 6,  7,  8,  9],\n",
              "        [11, 12, 13, 14]])"
            ]
          },
          "metadata": {},
          "execution_count": 49
        }
      ]
    },
    {
      "cell_type": "markdown",
      "source": [
        "**Math Operation**"
      ],
      "metadata": {
        "id": "y6a7kgZ94OqH"
      }
    },
    {
      "cell_type": "code",
      "source": [
        "import torch"
      ],
      "metadata": {
        "id": "PvxMMNaa48Gf"
      },
      "execution_count": 50,
      "outputs": []
    },
    {
      "cell_type": "code",
      "source": [
        "tensor_a = torch.tensor([1,2,3,4])\n",
        "tensor_b = torch.tensor([5,6,7,8])"
      ],
      "metadata": {
        "id": "W2EyOGw-rv17"
      },
      "execution_count": 51,
      "outputs": []
    },
    {
      "cell_type": "code",
      "source": [
        "torch.add(tensor_a,tensor_b)"
      ],
      "metadata": {
        "colab": {
          "base_uri": "https://localhost:8080/"
        },
        "id": "dfS4XBAk4iCB",
        "outputId": "0592cb98-5b54-4bc7-cad4-897b95ba7db3"
      },
      "execution_count": 52,
      "outputs": [
        {
          "output_type": "execute_result",
          "data": {
            "text/plain": [
              "tensor([ 6,  8, 10, 12])"
            ]
          },
          "metadata": {},
          "execution_count": 52
        }
      ]
    },
    {
      "cell_type": "markdown",
      "source": [
        "**NN**"
      ],
      "metadata": {
        "id": "N_XPtAa65mjn"
      }
    },
    {
      "cell_type": "markdown",
      "source": [
        "***input /hidden layer/output layer( fully connected means all node)***"
      ],
      "metadata": {
        "id": "2xh0BI4-5p3K"
      }
    },
    {
      "cell_type": "code",
      "source": [
        "# Iris data classification\n",
        "import torch\n",
        "import torch.nn as nn # neaural network\n",
        "import torch.nn.functional as F # activation function"
      ],
      "metadata": {
        "id": "3hBzwCtu5GF9"
      },
      "execution_count": 53,
      "outputs": []
    },
    {
      "cell_type": "code",
      "source": [
        "# create a model class that inherent nn.Module\n",
        "class Model(nn.Module):\n",
        "  # input layer (4 features) -->\n",
        "  # Hidden layers1(number of neurons)-->\n",
        "  # H2(n)-->\n",
        "  # Output(3) classer for classifer\n",
        "  def __init__(self,in_features=4,h1=8,h2=9,out_features=3):\n",
        "    super().__init__() # instantiate our nn.Module\n",
        "    self.fc1 = nn.Linear(in_features,h1) # fully connected layer\n",
        "    self.fc2 = nn.Linear(h1,h2)\n",
        "    self.out = nn.Linear(h2,out_features)\n",
        "\n",
        "  def forward(self,x):\n",
        "    x=F.relu(self.fc1(x))\n",
        "    x=F.relu(self.fc2(x))\n",
        "    x= self.out(x)\n",
        "\n",
        "    return x"
      ],
      "metadata": {
        "id": "QLruTuy-6ojl"
      },
      "execution_count": 54,
      "outputs": []
    },
    {
      "cell_type": "code",
      "source": [
        "# random numbers\n",
        "torch.manual_seed(41)\n",
        "# create a instance of model\n",
        "model = Model()"
      ],
      "metadata": {
        "id": "apWZnTz88ps6"
      },
      "execution_count": 55,
      "outputs": []
    },
    {
      "cell_type": "code",
      "source": [
        "import matplotlib.pyplot as plt\n",
        "%matplotlib inline"
      ],
      "metadata": {
        "id": "adRNzfnI9Sqq"
      },
      "execution_count": 56,
      "outputs": []
    },
    {
      "cell_type": "code",
      "source": [
        "import pandas as pd"
      ],
      "metadata": {
        "id": "gZC4kWDq9qpO"
      },
      "execution_count": 57,
      "outputs": []
    },
    {
      "cell_type": "code",
      "source": [
        "url =\"https://gist.githubusercontent.com/curran/a08a1080b88344b0c8a7/raw/0e7a9b0a5d22642a06d3d5b9bcbad9890c8ee534/iris.csv\"\n",
        "my_df =pd.read_csv(url)\n",
        "my_df.head()"
      ],
      "metadata": {
        "colab": {
          "base_uri": "https://localhost:8080/",
          "height": 206
        },
        "id": "u1-_aMc59v1n",
        "outputId": "05c11ac4-3a6b-4a65-e8ea-d500fdc16983"
      },
      "execution_count": 58,
      "outputs": [
        {
          "output_type": "execute_result",
          "data": {
            "text/plain": [
              "   sepal_length  sepal_width  petal_length  petal_width species\n",
              "0           5.1          3.5           1.4          0.2  setosa\n",
              "1           4.9          3.0           1.4          0.2  setosa\n",
              "2           4.7          3.2           1.3          0.2  setosa\n",
              "3           4.6          3.1           1.5          0.2  setosa\n",
              "4           5.0          3.6           1.4          0.2  setosa"
            ],
            "text/html": [
              "\n",
              "  <div id=\"df-01d74e0b-7fe5-4ec7-a82e-1ff128ebe1eb\" class=\"colab-df-container\">\n",
              "    <div>\n",
              "<style scoped>\n",
              "    .dataframe tbody tr th:only-of-type {\n",
              "        vertical-align: middle;\n",
              "    }\n",
              "\n",
              "    .dataframe tbody tr th {\n",
              "        vertical-align: top;\n",
              "    }\n",
              "\n",
              "    .dataframe thead th {\n",
              "        text-align: right;\n",
              "    }\n",
              "</style>\n",
              "<table border=\"1\" class=\"dataframe\">\n",
              "  <thead>\n",
              "    <tr style=\"text-align: right;\">\n",
              "      <th></th>\n",
              "      <th>sepal_length</th>\n",
              "      <th>sepal_width</th>\n",
              "      <th>petal_length</th>\n",
              "      <th>petal_width</th>\n",
              "      <th>species</th>\n",
              "    </tr>\n",
              "  </thead>\n",
              "  <tbody>\n",
              "    <tr>\n",
              "      <th>0</th>\n",
              "      <td>5.1</td>\n",
              "      <td>3.5</td>\n",
              "      <td>1.4</td>\n",
              "      <td>0.2</td>\n",
              "      <td>setosa</td>\n",
              "    </tr>\n",
              "    <tr>\n",
              "      <th>1</th>\n",
              "      <td>4.9</td>\n",
              "      <td>3.0</td>\n",
              "      <td>1.4</td>\n",
              "      <td>0.2</td>\n",
              "      <td>setosa</td>\n",
              "    </tr>\n",
              "    <tr>\n",
              "      <th>2</th>\n",
              "      <td>4.7</td>\n",
              "      <td>3.2</td>\n",
              "      <td>1.3</td>\n",
              "      <td>0.2</td>\n",
              "      <td>setosa</td>\n",
              "    </tr>\n",
              "    <tr>\n",
              "      <th>3</th>\n",
              "      <td>4.6</td>\n",
              "      <td>3.1</td>\n",
              "      <td>1.5</td>\n",
              "      <td>0.2</td>\n",
              "      <td>setosa</td>\n",
              "    </tr>\n",
              "    <tr>\n",
              "      <th>4</th>\n",
              "      <td>5.0</td>\n",
              "      <td>3.6</td>\n",
              "      <td>1.4</td>\n",
              "      <td>0.2</td>\n",
              "      <td>setosa</td>\n",
              "    </tr>\n",
              "  </tbody>\n",
              "</table>\n",
              "</div>\n",
              "    <div class=\"colab-df-buttons\">\n",
              "\n",
              "  <div class=\"colab-df-container\">\n",
              "    <button class=\"colab-df-convert\" onclick=\"convertToInteractive('df-01d74e0b-7fe5-4ec7-a82e-1ff128ebe1eb')\"\n",
              "            title=\"Convert this dataframe to an interactive table.\"\n",
              "            style=\"display:none;\">\n",
              "\n",
              "  <svg xmlns=\"http://www.w3.org/2000/svg\" height=\"24px\" viewBox=\"0 -960 960 960\">\n",
              "    <path d=\"M120-120v-720h720v720H120Zm60-500h600v-160H180v160Zm220 220h160v-160H400v160Zm0 220h160v-160H400v160ZM180-400h160v-160H180v160Zm440 0h160v-160H620v160ZM180-180h160v-160H180v160Zm440 0h160v-160H620v160Z\"/>\n",
              "  </svg>\n",
              "    </button>\n",
              "\n",
              "  <style>\n",
              "    .colab-df-container {\n",
              "      display:flex;\n",
              "      gap: 12px;\n",
              "    }\n",
              "\n",
              "    .colab-df-convert {\n",
              "      background-color: #E8F0FE;\n",
              "      border: none;\n",
              "      border-radius: 50%;\n",
              "      cursor: pointer;\n",
              "      display: none;\n",
              "      fill: #1967D2;\n",
              "      height: 32px;\n",
              "      padding: 0 0 0 0;\n",
              "      width: 32px;\n",
              "    }\n",
              "\n",
              "    .colab-df-convert:hover {\n",
              "      background-color: #E2EBFA;\n",
              "      box-shadow: 0px 1px 2px rgba(60, 64, 67, 0.3), 0px 1px 3px 1px rgba(60, 64, 67, 0.15);\n",
              "      fill: #174EA6;\n",
              "    }\n",
              "\n",
              "    .colab-df-buttons div {\n",
              "      margin-bottom: 4px;\n",
              "    }\n",
              "\n",
              "    [theme=dark] .colab-df-convert {\n",
              "      background-color: #3B4455;\n",
              "      fill: #D2E3FC;\n",
              "    }\n",
              "\n",
              "    [theme=dark] .colab-df-convert:hover {\n",
              "      background-color: #434B5C;\n",
              "      box-shadow: 0px 1px 3px 1px rgba(0, 0, 0, 0.15);\n",
              "      filter: drop-shadow(0px 1px 2px rgba(0, 0, 0, 0.3));\n",
              "      fill: #FFFFFF;\n",
              "    }\n",
              "  </style>\n",
              "\n",
              "    <script>\n",
              "      const buttonEl =\n",
              "        document.querySelector('#df-01d74e0b-7fe5-4ec7-a82e-1ff128ebe1eb button.colab-df-convert');\n",
              "      buttonEl.style.display =\n",
              "        google.colab.kernel.accessAllowed ? 'block' : 'none';\n",
              "\n",
              "      async function convertToInteractive(key) {\n",
              "        const element = document.querySelector('#df-01d74e0b-7fe5-4ec7-a82e-1ff128ebe1eb');\n",
              "        const dataTable =\n",
              "          await google.colab.kernel.invokeFunction('convertToInteractive',\n",
              "                                                    [key], {});\n",
              "        if (!dataTable) return;\n",
              "\n",
              "        const docLinkHtml = 'Like what you see? Visit the ' +\n",
              "          '<a target=\"_blank\" href=https://colab.research.google.com/notebooks/data_table.ipynb>data table notebook</a>'\n",
              "          + ' to learn more about interactive tables.';\n",
              "        element.innerHTML = '';\n",
              "        dataTable['output_type'] = 'display_data';\n",
              "        await google.colab.output.renderOutput(dataTable, element);\n",
              "        const docLink = document.createElement('div');\n",
              "        docLink.innerHTML = docLinkHtml;\n",
              "        element.appendChild(docLink);\n",
              "      }\n",
              "    </script>\n",
              "  </div>\n",
              "\n",
              "\n",
              "<div id=\"df-80000352-cf3e-4ae2-8212-b89eb2124ba2\">\n",
              "  <button class=\"colab-df-quickchart\" onclick=\"quickchart('df-80000352-cf3e-4ae2-8212-b89eb2124ba2')\"\n",
              "            title=\"Suggest charts\"\n",
              "            style=\"display:none;\">\n",
              "\n",
              "<svg xmlns=\"http://www.w3.org/2000/svg\" height=\"24px\"viewBox=\"0 0 24 24\"\n",
              "     width=\"24px\">\n",
              "    <g>\n",
              "        <path d=\"M19 3H5c-1.1 0-2 .9-2 2v14c0 1.1.9 2 2 2h14c1.1 0 2-.9 2-2V5c0-1.1-.9-2-2-2zM9 17H7v-7h2v7zm4 0h-2V7h2v10zm4 0h-2v-4h2v4z\"/>\n",
              "    </g>\n",
              "</svg>\n",
              "  </button>\n",
              "\n",
              "<style>\n",
              "  .colab-df-quickchart {\n",
              "      --bg-color: #E8F0FE;\n",
              "      --fill-color: #1967D2;\n",
              "      --hover-bg-color: #E2EBFA;\n",
              "      --hover-fill-color: #174EA6;\n",
              "      --disabled-fill-color: #AAA;\n",
              "      --disabled-bg-color: #DDD;\n",
              "  }\n",
              "\n",
              "  [theme=dark] .colab-df-quickchart {\n",
              "      --bg-color: #3B4455;\n",
              "      --fill-color: #D2E3FC;\n",
              "      --hover-bg-color: #434B5C;\n",
              "      --hover-fill-color: #FFFFFF;\n",
              "      --disabled-bg-color: #3B4455;\n",
              "      --disabled-fill-color: #666;\n",
              "  }\n",
              "\n",
              "  .colab-df-quickchart {\n",
              "    background-color: var(--bg-color);\n",
              "    border: none;\n",
              "    border-radius: 50%;\n",
              "    cursor: pointer;\n",
              "    display: none;\n",
              "    fill: var(--fill-color);\n",
              "    height: 32px;\n",
              "    padding: 0;\n",
              "    width: 32px;\n",
              "  }\n",
              "\n",
              "  .colab-df-quickchart:hover {\n",
              "    background-color: var(--hover-bg-color);\n",
              "    box-shadow: 0 1px 2px rgba(60, 64, 67, 0.3), 0 1px 3px 1px rgba(60, 64, 67, 0.15);\n",
              "    fill: var(--button-hover-fill-color);\n",
              "  }\n",
              "\n",
              "  .colab-df-quickchart-complete:disabled,\n",
              "  .colab-df-quickchart-complete:disabled:hover {\n",
              "    background-color: var(--disabled-bg-color);\n",
              "    fill: var(--disabled-fill-color);\n",
              "    box-shadow: none;\n",
              "  }\n",
              "\n",
              "  .colab-df-spinner {\n",
              "    border: 2px solid var(--fill-color);\n",
              "    border-color: transparent;\n",
              "    border-bottom-color: var(--fill-color);\n",
              "    animation:\n",
              "      spin 1s steps(1) infinite;\n",
              "  }\n",
              "\n",
              "  @keyframes spin {\n",
              "    0% {\n",
              "      border-color: transparent;\n",
              "      border-bottom-color: var(--fill-color);\n",
              "      border-left-color: var(--fill-color);\n",
              "    }\n",
              "    20% {\n",
              "      border-color: transparent;\n",
              "      border-left-color: var(--fill-color);\n",
              "      border-top-color: var(--fill-color);\n",
              "    }\n",
              "    30% {\n",
              "      border-color: transparent;\n",
              "      border-left-color: var(--fill-color);\n",
              "      border-top-color: var(--fill-color);\n",
              "      border-right-color: var(--fill-color);\n",
              "    }\n",
              "    40% {\n",
              "      border-color: transparent;\n",
              "      border-right-color: var(--fill-color);\n",
              "      border-top-color: var(--fill-color);\n",
              "    }\n",
              "    60% {\n",
              "      border-color: transparent;\n",
              "      border-right-color: var(--fill-color);\n",
              "    }\n",
              "    80% {\n",
              "      border-color: transparent;\n",
              "      border-right-color: var(--fill-color);\n",
              "      border-bottom-color: var(--fill-color);\n",
              "    }\n",
              "    90% {\n",
              "      border-color: transparent;\n",
              "      border-bottom-color: var(--fill-color);\n",
              "    }\n",
              "  }\n",
              "</style>\n",
              "\n",
              "  <script>\n",
              "    async function quickchart(key) {\n",
              "      const quickchartButtonEl =\n",
              "        document.querySelector('#' + key + ' button');\n",
              "      quickchartButtonEl.disabled = true;  // To prevent multiple clicks.\n",
              "      quickchartButtonEl.classList.add('colab-df-spinner');\n",
              "      try {\n",
              "        const charts = await google.colab.kernel.invokeFunction(\n",
              "            'suggestCharts', [key], {});\n",
              "      } catch (error) {\n",
              "        console.error('Error during call to suggestCharts:', error);\n",
              "      }\n",
              "      quickchartButtonEl.classList.remove('colab-df-spinner');\n",
              "      quickchartButtonEl.classList.add('colab-df-quickchart-complete');\n",
              "    }\n",
              "    (() => {\n",
              "      let quickchartButtonEl =\n",
              "        document.querySelector('#df-80000352-cf3e-4ae2-8212-b89eb2124ba2 button');\n",
              "      quickchartButtonEl.style.display =\n",
              "        google.colab.kernel.accessAllowed ? 'block' : 'none';\n",
              "    })();\n",
              "  </script>\n",
              "</div>\n",
              "\n",
              "    </div>\n",
              "  </div>\n"
            ],
            "application/vnd.google.colaboratory.intrinsic+json": {
              "type": "dataframe",
              "variable_name": "my_df",
              "summary": "{\n  \"name\": \"my_df\",\n  \"rows\": 150,\n  \"fields\": [\n    {\n      \"column\": \"sepal_length\",\n      \"properties\": {\n        \"dtype\": \"number\",\n        \"std\": 0.8280661279778629,\n        \"min\": 4.3,\n        \"max\": 7.9,\n        \"num_unique_values\": 35,\n        \"samples\": [\n          6.2,\n          4.5,\n          5.6\n        ],\n        \"semantic_type\": \"\",\n        \"description\": \"\"\n      }\n    },\n    {\n      \"column\": \"sepal_width\",\n      \"properties\": {\n        \"dtype\": \"number\",\n        \"std\": 0.4335943113621737,\n        \"min\": 2.0,\n        \"max\": 4.4,\n        \"num_unique_values\": 23,\n        \"samples\": [\n          2.3,\n          4.0,\n          3.5\n        ],\n        \"semantic_type\": \"\",\n        \"description\": \"\"\n      }\n    },\n    {\n      \"column\": \"petal_length\",\n      \"properties\": {\n        \"dtype\": \"number\",\n        \"std\": 1.7644204199522617,\n        \"min\": 1.0,\n        \"max\": 6.9,\n        \"num_unique_values\": 43,\n        \"samples\": [\n          6.7,\n          3.8,\n          3.7\n        ],\n        \"semantic_type\": \"\",\n        \"description\": \"\"\n      }\n    },\n    {\n      \"column\": \"petal_width\",\n      \"properties\": {\n        \"dtype\": \"number\",\n        \"std\": 0.7631607417008414,\n        \"min\": 0.1,\n        \"max\": 2.5,\n        \"num_unique_values\": 22,\n        \"samples\": [\n          0.2,\n          1.2,\n          1.3\n        ],\n        \"semantic_type\": \"\",\n        \"description\": \"\"\n      }\n    },\n    {\n      \"column\": \"species\",\n      \"properties\": {\n        \"dtype\": \"category\",\n        \"num_unique_values\": 3,\n        \"samples\": [\n          \"setosa\",\n          \"versicolor\",\n          \"virginica\"\n        ],\n        \"semantic_type\": \"\",\n        \"description\": \"\"\n      }\n    }\n  ]\n}"
            }
          },
          "metadata": {},
          "execution_count": 58
        }
      ]
    },
    {
      "cell_type": "code",
      "source": [
        "my_df[\"species\"]=my_df[\"species\"].replace(\"setosa\",0)\n",
        "my_df[\"species\"]=my_df[\"species\"].replace(\"versicolor\",1)\n",
        "my_df[\"species\"]=my_df[\"species\"].replace(\"virginica\",2)\n",
        "my_df.head()"
      ],
      "metadata": {
        "colab": {
          "base_uri": "https://localhost:8080/",
          "height": 261
        },
        "id": "hfkrzpA_-OJ7",
        "outputId": "8a647067-3585-4c9e-f871-cdb534cbfa8e"
      },
      "execution_count": 59,
      "outputs": [
        {
          "output_type": "stream",
          "name": "stderr",
          "text": [
            "<ipython-input-59-68cf984c0bdd>:3: FutureWarning: Downcasting behavior in `replace` is deprecated and will be removed in a future version. To retain the old behavior, explicitly call `result.infer_objects(copy=False)`. To opt-in to the future behavior, set `pd.set_option('future.no_silent_downcasting', True)`\n",
            "  my_df[\"species\"]=my_df[\"species\"].replace(\"virginica\",2)\n"
          ]
        },
        {
          "output_type": "execute_result",
          "data": {
            "text/plain": [
              "   sepal_length  sepal_width  petal_length  petal_width  species\n",
              "0           5.1          3.5           1.4          0.2        0\n",
              "1           4.9          3.0           1.4          0.2        0\n",
              "2           4.7          3.2           1.3          0.2        0\n",
              "3           4.6          3.1           1.5          0.2        0\n",
              "4           5.0          3.6           1.4          0.2        0"
            ],
            "text/html": [
              "\n",
              "  <div id=\"df-249c446d-fe93-48f5-8a5c-df9df0409f44\" class=\"colab-df-container\">\n",
              "    <div>\n",
              "<style scoped>\n",
              "    .dataframe tbody tr th:only-of-type {\n",
              "        vertical-align: middle;\n",
              "    }\n",
              "\n",
              "    .dataframe tbody tr th {\n",
              "        vertical-align: top;\n",
              "    }\n",
              "\n",
              "    .dataframe thead th {\n",
              "        text-align: right;\n",
              "    }\n",
              "</style>\n",
              "<table border=\"1\" class=\"dataframe\">\n",
              "  <thead>\n",
              "    <tr style=\"text-align: right;\">\n",
              "      <th></th>\n",
              "      <th>sepal_length</th>\n",
              "      <th>sepal_width</th>\n",
              "      <th>petal_length</th>\n",
              "      <th>petal_width</th>\n",
              "      <th>species</th>\n",
              "    </tr>\n",
              "  </thead>\n",
              "  <tbody>\n",
              "    <tr>\n",
              "      <th>0</th>\n",
              "      <td>5.1</td>\n",
              "      <td>3.5</td>\n",
              "      <td>1.4</td>\n",
              "      <td>0.2</td>\n",
              "      <td>0</td>\n",
              "    </tr>\n",
              "    <tr>\n",
              "      <th>1</th>\n",
              "      <td>4.9</td>\n",
              "      <td>3.0</td>\n",
              "      <td>1.4</td>\n",
              "      <td>0.2</td>\n",
              "      <td>0</td>\n",
              "    </tr>\n",
              "    <tr>\n",
              "      <th>2</th>\n",
              "      <td>4.7</td>\n",
              "      <td>3.2</td>\n",
              "      <td>1.3</td>\n",
              "      <td>0.2</td>\n",
              "      <td>0</td>\n",
              "    </tr>\n",
              "    <tr>\n",
              "      <th>3</th>\n",
              "      <td>4.6</td>\n",
              "      <td>3.1</td>\n",
              "      <td>1.5</td>\n",
              "      <td>0.2</td>\n",
              "      <td>0</td>\n",
              "    </tr>\n",
              "    <tr>\n",
              "      <th>4</th>\n",
              "      <td>5.0</td>\n",
              "      <td>3.6</td>\n",
              "      <td>1.4</td>\n",
              "      <td>0.2</td>\n",
              "      <td>0</td>\n",
              "    </tr>\n",
              "  </tbody>\n",
              "</table>\n",
              "</div>\n",
              "    <div class=\"colab-df-buttons\">\n",
              "\n",
              "  <div class=\"colab-df-container\">\n",
              "    <button class=\"colab-df-convert\" onclick=\"convertToInteractive('df-249c446d-fe93-48f5-8a5c-df9df0409f44')\"\n",
              "            title=\"Convert this dataframe to an interactive table.\"\n",
              "            style=\"display:none;\">\n",
              "\n",
              "  <svg xmlns=\"http://www.w3.org/2000/svg\" height=\"24px\" viewBox=\"0 -960 960 960\">\n",
              "    <path d=\"M120-120v-720h720v720H120Zm60-500h600v-160H180v160Zm220 220h160v-160H400v160Zm0 220h160v-160H400v160ZM180-400h160v-160H180v160Zm440 0h160v-160H620v160ZM180-180h160v-160H180v160Zm440 0h160v-160H620v160Z\"/>\n",
              "  </svg>\n",
              "    </button>\n",
              "\n",
              "  <style>\n",
              "    .colab-df-container {\n",
              "      display:flex;\n",
              "      gap: 12px;\n",
              "    }\n",
              "\n",
              "    .colab-df-convert {\n",
              "      background-color: #E8F0FE;\n",
              "      border: none;\n",
              "      border-radius: 50%;\n",
              "      cursor: pointer;\n",
              "      display: none;\n",
              "      fill: #1967D2;\n",
              "      height: 32px;\n",
              "      padding: 0 0 0 0;\n",
              "      width: 32px;\n",
              "    }\n",
              "\n",
              "    .colab-df-convert:hover {\n",
              "      background-color: #E2EBFA;\n",
              "      box-shadow: 0px 1px 2px rgba(60, 64, 67, 0.3), 0px 1px 3px 1px rgba(60, 64, 67, 0.15);\n",
              "      fill: #174EA6;\n",
              "    }\n",
              "\n",
              "    .colab-df-buttons div {\n",
              "      margin-bottom: 4px;\n",
              "    }\n",
              "\n",
              "    [theme=dark] .colab-df-convert {\n",
              "      background-color: #3B4455;\n",
              "      fill: #D2E3FC;\n",
              "    }\n",
              "\n",
              "    [theme=dark] .colab-df-convert:hover {\n",
              "      background-color: #434B5C;\n",
              "      box-shadow: 0px 1px 3px 1px rgba(0, 0, 0, 0.15);\n",
              "      filter: drop-shadow(0px 1px 2px rgba(0, 0, 0, 0.3));\n",
              "      fill: #FFFFFF;\n",
              "    }\n",
              "  </style>\n",
              "\n",
              "    <script>\n",
              "      const buttonEl =\n",
              "        document.querySelector('#df-249c446d-fe93-48f5-8a5c-df9df0409f44 button.colab-df-convert');\n",
              "      buttonEl.style.display =\n",
              "        google.colab.kernel.accessAllowed ? 'block' : 'none';\n",
              "\n",
              "      async function convertToInteractive(key) {\n",
              "        const element = document.querySelector('#df-249c446d-fe93-48f5-8a5c-df9df0409f44');\n",
              "        const dataTable =\n",
              "          await google.colab.kernel.invokeFunction('convertToInteractive',\n",
              "                                                    [key], {});\n",
              "        if (!dataTable) return;\n",
              "\n",
              "        const docLinkHtml = 'Like what you see? Visit the ' +\n",
              "          '<a target=\"_blank\" href=https://colab.research.google.com/notebooks/data_table.ipynb>data table notebook</a>'\n",
              "          + ' to learn more about interactive tables.';\n",
              "        element.innerHTML = '';\n",
              "        dataTable['output_type'] = 'display_data';\n",
              "        await google.colab.output.renderOutput(dataTable, element);\n",
              "        const docLink = document.createElement('div');\n",
              "        docLink.innerHTML = docLinkHtml;\n",
              "        element.appendChild(docLink);\n",
              "      }\n",
              "    </script>\n",
              "  </div>\n",
              "\n",
              "\n",
              "<div id=\"df-7c1bb78f-6b88-4b90-8e46-51d87bd7bc54\">\n",
              "  <button class=\"colab-df-quickchart\" onclick=\"quickchart('df-7c1bb78f-6b88-4b90-8e46-51d87bd7bc54')\"\n",
              "            title=\"Suggest charts\"\n",
              "            style=\"display:none;\">\n",
              "\n",
              "<svg xmlns=\"http://www.w3.org/2000/svg\" height=\"24px\"viewBox=\"0 0 24 24\"\n",
              "     width=\"24px\">\n",
              "    <g>\n",
              "        <path d=\"M19 3H5c-1.1 0-2 .9-2 2v14c0 1.1.9 2 2 2h14c1.1 0 2-.9 2-2V5c0-1.1-.9-2-2-2zM9 17H7v-7h2v7zm4 0h-2V7h2v10zm4 0h-2v-4h2v4z\"/>\n",
              "    </g>\n",
              "</svg>\n",
              "  </button>\n",
              "\n",
              "<style>\n",
              "  .colab-df-quickchart {\n",
              "      --bg-color: #E8F0FE;\n",
              "      --fill-color: #1967D2;\n",
              "      --hover-bg-color: #E2EBFA;\n",
              "      --hover-fill-color: #174EA6;\n",
              "      --disabled-fill-color: #AAA;\n",
              "      --disabled-bg-color: #DDD;\n",
              "  }\n",
              "\n",
              "  [theme=dark] .colab-df-quickchart {\n",
              "      --bg-color: #3B4455;\n",
              "      --fill-color: #D2E3FC;\n",
              "      --hover-bg-color: #434B5C;\n",
              "      --hover-fill-color: #FFFFFF;\n",
              "      --disabled-bg-color: #3B4455;\n",
              "      --disabled-fill-color: #666;\n",
              "  }\n",
              "\n",
              "  .colab-df-quickchart {\n",
              "    background-color: var(--bg-color);\n",
              "    border: none;\n",
              "    border-radius: 50%;\n",
              "    cursor: pointer;\n",
              "    display: none;\n",
              "    fill: var(--fill-color);\n",
              "    height: 32px;\n",
              "    padding: 0;\n",
              "    width: 32px;\n",
              "  }\n",
              "\n",
              "  .colab-df-quickchart:hover {\n",
              "    background-color: var(--hover-bg-color);\n",
              "    box-shadow: 0 1px 2px rgba(60, 64, 67, 0.3), 0 1px 3px 1px rgba(60, 64, 67, 0.15);\n",
              "    fill: var(--button-hover-fill-color);\n",
              "  }\n",
              "\n",
              "  .colab-df-quickchart-complete:disabled,\n",
              "  .colab-df-quickchart-complete:disabled:hover {\n",
              "    background-color: var(--disabled-bg-color);\n",
              "    fill: var(--disabled-fill-color);\n",
              "    box-shadow: none;\n",
              "  }\n",
              "\n",
              "  .colab-df-spinner {\n",
              "    border: 2px solid var(--fill-color);\n",
              "    border-color: transparent;\n",
              "    border-bottom-color: var(--fill-color);\n",
              "    animation:\n",
              "      spin 1s steps(1) infinite;\n",
              "  }\n",
              "\n",
              "  @keyframes spin {\n",
              "    0% {\n",
              "      border-color: transparent;\n",
              "      border-bottom-color: var(--fill-color);\n",
              "      border-left-color: var(--fill-color);\n",
              "    }\n",
              "    20% {\n",
              "      border-color: transparent;\n",
              "      border-left-color: var(--fill-color);\n",
              "      border-top-color: var(--fill-color);\n",
              "    }\n",
              "    30% {\n",
              "      border-color: transparent;\n",
              "      border-left-color: var(--fill-color);\n",
              "      border-top-color: var(--fill-color);\n",
              "      border-right-color: var(--fill-color);\n",
              "    }\n",
              "    40% {\n",
              "      border-color: transparent;\n",
              "      border-right-color: var(--fill-color);\n",
              "      border-top-color: var(--fill-color);\n",
              "    }\n",
              "    60% {\n",
              "      border-color: transparent;\n",
              "      border-right-color: var(--fill-color);\n",
              "    }\n",
              "    80% {\n",
              "      border-color: transparent;\n",
              "      border-right-color: var(--fill-color);\n",
              "      border-bottom-color: var(--fill-color);\n",
              "    }\n",
              "    90% {\n",
              "      border-color: transparent;\n",
              "      border-bottom-color: var(--fill-color);\n",
              "    }\n",
              "  }\n",
              "</style>\n",
              "\n",
              "  <script>\n",
              "    async function quickchart(key) {\n",
              "      const quickchartButtonEl =\n",
              "        document.querySelector('#' + key + ' button');\n",
              "      quickchartButtonEl.disabled = true;  // To prevent multiple clicks.\n",
              "      quickchartButtonEl.classList.add('colab-df-spinner');\n",
              "      try {\n",
              "        const charts = await google.colab.kernel.invokeFunction(\n",
              "            'suggestCharts', [key], {});\n",
              "      } catch (error) {\n",
              "        console.error('Error during call to suggestCharts:', error);\n",
              "      }\n",
              "      quickchartButtonEl.classList.remove('colab-df-spinner');\n",
              "      quickchartButtonEl.classList.add('colab-df-quickchart-complete');\n",
              "    }\n",
              "    (() => {\n",
              "      let quickchartButtonEl =\n",
              "        document.querySelector('#df-7c1bb78f-6b88-4b90-8e46-51d87bd7bc54 button');\n",
              "      quickchartButtonEl.style.display =\n",
              "        google.colab.kernel.accessAllowed ? 'block' : 'none';\n",
              "    })();\n",
              "  </script>\n",
              "</div>\n",
              "\n",
              "    </div>\n",
              "  </div>\n"
            ],
            "application/vnd.google.colaboratory.intrinsic+json": {
              "type": "dataframe",
              "variable_name": "my_df",
              "summary": "{\n  \"name\": \"my_df\",\n  \"rows\": 150,\n  \"fields\": [\n    {\n      \"column\": \"sepal_length\",\n      \"properties\": {\n        \"dtype\": \"number\",\n        \"std\": 0.8280661279778629,\n        \"min\": 4.3,\n        \"max\": 7.9,\n        \"num_unique_values\": 35,\n        \"samples\": [\n          6.2,\n          4.5,\n          5.6\n        ],\n        \"semantic_type\": \"\",\n        \"description\": \"\"\n      }\n    },\n    {\n      \"column\": \"sepal_width\",\n      \"properties\": {\n        \"dtype\": \"number\",\n        \"std\": 0.4335943113621737,\n        \"min\": 2.0,\n        \"max\": 4.4,\n        \"num_unique_values\": 23,\n        \"samples\": [\n          2.3,\n          4.0,\n          3.5\n        ],\n        \"semantic_type\": \"\",\n        \"description\": \"\"\n      }\n    },\n    {\n      \"column\": \"petal_length\",\n      \"properties\": {\n        \"dtype\": \"number\",\n        \"std\": 1.7644204199522617,\n        \"min\": 1.0,\n        \"max\": 6.9,\n        \"num_unique_values\": 43,\n        \"samples\": [\n          6.7,\n          3.8,\n          3.7\n        ],\n        \"semantic_type\": \"\",\n        \"description\": \"\"\n      }\n    },\n    {\n      \"column\": \"petal_width\",\n      \"properties\": {\n        \"dtype\": \"number\",\n        \"std\": 0.7631607417008414,\n        \"min\": 0.1,\n        \"max\": 2.5,\n        \"num_unique_values\": 22,\n        \"samples\": [\n          0.2,\n          1.2,\n          1.3\n        ],\n        \"semantic_type\": \"\",\n        \"description\": \"\"\n      }\n    },\n    {\n      \"column\": \"species\",\n      \"properties\": {\n        \"dtype\": \"number\",\n        \"std\": 0,\n        \"min\": 0,\n        \"max\": 2,\n        \"num_unique_values\": 3,\n        \"samples\": [\n          0,\n          1,\n          2\n        ],\n        \"semantic_type\": \"\",\n        \"description\": \"\"\n      }\n    }\n  ]\n}"
            }
          },
          "metadata": {},
          "execution_count": 59
        }
      ]
    },
    {
      "cell_type": "code",
      "source": [
        "# train and test\n",
        "X= my_df.drop(\"species\",axis=1)\n",
        "y=my_df[\"species\"]"
      ],
      "metadata": {
        "id": "47BE-_AG-vgb"
      },
      "execution_count": 60,
      "outputs": []
    },
    {
      "cell_type": "code",
      "source": [
        "# conver to numpy array\n",
        "X=X.values\n",
        "y=y.values"
      ],
      "metadata": {
        "id": "_2edwVTe_Ct_"
      },
      "execution_count": 61,
      "outputs": []
    },
    {
      "cell_type": "code",
      "source": [
        "X"
      ],
      "metadata": {
        "colab": {
          "base_uri": "https://localhost:8080/"
        },
        "collapsed": true,
        "id": "l8dEOidd_OvV",
        "outputId": "89369d35-c797-422a-8f4e-b86bcf62a7f5"
      },
      "execution_count": 62,
      "outputs": [
        {
          "output_type": "execute_result",
          "data": {
            "text/plain": [
              "array([[5.1, 3.5, 1.4, 0.2],\n",
              "       [4.9, 3. , 1.4, 0.2],\n",
              "       [4.7, 3.2, 1.3, 0.2],\n",
              "       [4.6, 3.1, 1.5, 0.2],\n",
              "       [5. , 3.6, 1.4, 0.2],\n",
              "       [5.4, 3.9, 1.7, 0.4],\n",
              "       [4.6, 3.4, 1.4, 0.3],\n",
              "       [5. , 3.4, 1.5, 0.2],\n",
              "       [4.4, 2.9, 1.4, 0.2],\n",
              "       [4.9, 3.1, 1.5, 0.1],\n",
              "       [5.4, 3.7, 1.5, 0.2],\n",
              "       [4.8, 3.4, 1.6, 0.2],\n",
              "       [4.8, 3. , 1.4, 0.1],\n",
              "       [4.3, 3. , 1.1, 0.1],\n",
              "       [5.8, 4. , 1.2, 0.2],\n",
              "       [5.7, 4.4, 1.5, 0.4],\n",
              "       [5.4, 3.9, 1.3, 0.4],\n",
              "       [5.1, 3.5, 1.4, 0.3],\n",
              "       [5.7, 3.8, 1.7, 0.3],\n",
              "       [5.1, 3.8, 1.5, 0.3],\n",
              "       [5.4, 3.4, 1.7, 0.2],\n",
              "       [5.1, 3.7, 1.5, 0.4],\n",
              "       [4.6, 3.6, 1. , 0.2],\n",
              "       [5.1, 3.3, 1.7, 0.5],\n",
              "       [4.8, 3.4, 1.9, 0.2],\n",
              "       [5. , 3. , 1.6, 0.2],\n",
              "       [5. , 3.4, 1.6, 0.4],\n",
              "       [5.2, 3.5, 1.5, 0.2],\n",
              "       [5.2, 3.4, 1.4, 0.2],\n",
              "       [4.7, 3.2, 1.6, 0.2],\n",
              "       [4.8, 3.1, 1.6, 0.2],\n",
              "       [5.4, 3.4, 1.5, 0.4],\n",
              "       [5.2, 4.1, 1.5, 0.1],\n",
              "       [5.5, 4.2, 1.4, 0.2],\n",
              "       [4.9, 3.1, 1.5, 0.1],\n",
              "       [5. , 3.2, 1.2, 0.2],\n",
              "       [5.5, 3.5, 1.3, 0.2],\n",
              "       [4.9, 3.1, 1.5, 0.1],\n",
              "       [4.4, 3. , 1.3, 0.2],\n",
              "       [5.1, 3.4, 1.5, 0.2],\n",
              "       [5. , 3.5, 1.3, 0.3],\n",
              "       [4.5, 2.3, 1.3, 0.3],\n",
              "       [4.4, 3.2, 1.3, 0.2],\n",
              "       [5. , 3.5, 1.6, 0.6],\n",
              "       [5.1, 3.8, 1.9, 0.4],\n",
              "       [4.8, 3. , 1.4, 0.3],\n",
              "       [5.1, 3.8, 1.6, 0.2],\n",
              "       [4.6, 3.2, 1.4, 0.2],\n",
              "       [5.3, 3.7, 1.5, 0.2],\n",
              "       [5. , 3.3, 1.4, 0.2],\n",
              "       [7. , 3.2, 4.7, 1.4],\n",
              "       [6.4, 3.2, 4.5, 1.5],\n",
              "       [6.9, 3.1, 4.9, 1.5],\n",
              "       [5.5, 2.3, 4. , 1.3],\n",
              "       [6.5, 2.8, 4.6, 1.5],\n",
              "       [5.7, 2.8, 4.5, 1.3],\n",
              "       [6.3, 3.3, 4.7, 1.6],\n",
              "       [4.9, 2.4, 3.3, 1. ],\n",
              "       [6.6, 2.9, 4.6, 1.3],\n",
              "       [5.2, 2.7, 3.9, 1.4],\n",
              "       [5. , 2. , 3.5, 1. ],\n",
              "       [5.9, 3. , 4.2, 1.5],\n",
              "       [6. , 2.2, 4. , 1. ],\n",
              "       [6.1, 2.9, 4.7, 1.4],\n",
              "       [5.6, 2.9, 3.6, 1.3],\n",
              "       [6.7, 3.1, 4.4, 1.4],\n",
              "       [5.6, 3. , 4.5, 1.5],\n",
              "       [5.8, 2.7, 4.1, 1. ],\n",
              "       [6.2, 2.2, 4.5, 1.5],\n",
              "       [5.6, 2.5, 3.9, 1.1],\n",
              "       [5.9, 3.2, 4.8, 1.8],\n",
              "       [6.1, 2.8, 4. , 1.3],\n",
              "       [6.3, 2.5, 4.9, 1.5],\n",
              "       [6.1, 2.8, 4.7, 1.2],\n",
              "       [6.4, 2.9, 4.3, 1.3],\n",
              "       [6.6, 3. , 4.4, 1.4],\n",
              "       [6.8, 2.8, 4.8, 1.4],\n",
              "       [6.7, 3. , 5. , 1.7],\n",
              "       [6. , 2.9, 4.5, 1.5],\n",
              "       [5.7, 2.6, 3.5, 1. ],\n",
              "       [5.5, 2.4, 3.8, 1.1],\n",
              "       [5.5, 2.4, 3.7, 1. ],\n",
              "       [5.8, 2.7, 3.9, 1.2],\n",
              "       [6. , 2.7, 5.1, 1.6],\n",
              "       [5.4, 3. , 4.5, 1.5],\n",
              "       [6. , 3.4, 4.5, 1.6],\n",
              "       [6.7, 3.1, 4.7, 1.5],\n",
              "       [6.3, 2.3, 4.4, 1.3],\n",
              "       [5.6, 3. , 4.1, 1.3],\n",
              "       [5.5, 2.5, 4. , 1.3],\n",
              "       [5.5, 2.6, 4.4, 1.2],\n",
              "       [6.1, 3. , 4.6, 1.4],\n",
              "       [5.8, 2.6, 4. , 1.2],\n",
              "       [5. , 2.3, 3.3, 1. ],\n",
              "       [5.6, 2.7, 4.2, 1.3],\n",
              "       [5.7, 3. , 4.2, 1.2],\n",
              "       [5.7, 2.9, 4.2, 1.3],\n",
              "       [6.2, 2.9, 4.3, 1.3],\n",
              "       [5.1, 2.5, 3. , 1.1],\n",
              "       [5.7, 2.8, 4.1, 1.3],\n",
              "       [6.3, 3.3, 6. , 2.5],\n",
              "       [5.8, 2.7, 5.1, 1.9],\n",
              "       [7.1, 3. , 5.9, 2.1],\n",
              "       [6.3, 2.9, 5.6, 1.8],\n",
              "       [6.5, 3. , 5.8, 2.2],\n",
              "       [7.6, 3. , 6.6, 2.1],\n",
              "       [4.9, 2.5, 4.5, 1.7],\n",
              "       [7.3, 2.9, 6.3, 1.8],\n",
              "       [6.7, 2.5, 5.8, 1.8],\n",
              "       [7.2, 3.6, 6.1, 2.5],\n",
              "       [6.5, 3.2, 5.1, 2. ],\n",
              "       [6.4, 2.7, 5.3, 1.9],\n",
              "       [6.8, 3. , 5.5, 2.1],\n",
              "       [5.7, 2.5, 5. , 2. ],\n",
              "       [5.8, 2.8, 5.1, 2.4],\n",
              "       [6.4, 3.2, 5.3, 2.3],\n",
              "       [6.5, 3. , 5.5, 1.8],\n",
              "       [7.7, 3.8, 6.7, 2.2],\n",
              "       [7.7, 2.6, 6.9, 2.3],\n",
              "       [6. , 2.2, 5. , 1.5],\n",
              "       [6.9, 3.2, 5.7, 2.3],\n",
              "       [5.6, 2.8, 4.9, 2. ],\n",
              "       [7.7, 2.8, 6.7, 2. ],\n",
              "       [6.3, 2.7, 4.9, 1.8],\n",
              "       [6.7, 3.3, 5.7, 2.1],\n",
              "       [7.2, 3.2, 6. , 1.8],\n",
              "       [6.2, 2.8, 4.8, 1.8],\n",
              "       [6.1, 3. , 4.9, 1.8],\n",
              "       [6.4, 2.8, 5.6, 2.1],\n",
              "       [7.2, 3. , 5.8, 1.6],\n",
              "       [7.4, 2.8, 6.1, 1.9],\n",
              "       [7.9, 3.8, 6.4, 2. ],\n",
              "       [6.4, 2.8, 5.6, 2.2],\n",
              "       [6.3, 2.8, 5.1, 1.5],\n",
              "       [6.1, 2.6, 5.6, 1.4],\n",
              "       [7.7, 3. , 6.1, 2.3],\n",
              "       [6.3, 3.4, 5.6, 2.4],\n",
              "       [6.4, 3.1, 5.5, 1.8],\n",
              "       [6. , 3. , 4.8, 1.8],\n",
              "       [6.9, 3.1, 5.4, 2.1],\n",
              "       [6.7, 3.1, 5.6, 2.4],\n",
              "       [6.9, 3.1, 5.1, 2.3],\n",
              "       [5.8, 2.7, 5.1, 1.9],\n",
              "       [6.8, 3.2, 5.9, 2.3],\n",
              "       [6.7, 3.3, 5.7, 2.5],\n",
              "       [6.7, 3. , 5.2, 2.3],\n",
              "       [6.3, 2.5, 5. , 1.9],\n",
              "       [6.5, 3. , 5.2, 2. ],\n",
              "       [6.2, 3.4, 5.4, 2.3],\n",
              "       [5.9, 3. , 5.1, 1.8]])"
            ]
          },
          "metadata": {},
          "execution_count": 62
        }
      ]
    },
    {
      "cell_type": "code",
      "source": [
        "from sklearn.model_selection import train_test_split\n",
        "X_train,X_test,y_train,y_test= train_test_split(X,y,test_size=0.2,random_state=41)"
      ],
      "metadata": {
        "id": "1dPs1K9V_P6Z"
      },
      "execution_count": 63,
      "outputs": []
    },
    {
      "cell_type": "code",
      "source": [
        "# convert X features to tensors\n",
        "X_train=torch.FloatTensor(X_train)\n",
        "X_test=torch.FloatTensor(X_test)\n",
        "## convert y features to tensors\n",
        "y_train=torch.LongTensor(y_train)\n",
        "y_test=torch.LongTensor(y_test)"
      ],
      "metadata": {
        "id": "q22ppkcM_sUw"
      },
      "execution_count": 64,
      "outputs": []
    },
    {
      "cell_type": "code",
      "source": [
        "# set the error\n",
        "criterion = nn.CrossEntropyLoss()\n",
        "\n",
        "# choose optimizer # if we change lr lower it take time to leran\n",
        "optimizer = torch.optim.Adam(model.parameters(),lr=0.01)\n"
      ],
      "metadata": {
        "id": "eJOUX8BsARDu"
      },
      "execution_count": 65,
      "outputs": []
    },
    {
      "cell_type": "code",
      "source": [
        "model.parameters"
      ],
      "metadata": {
        "colab": {
          "base_uri": "https://localhost:8080/",
          "height": 187
        },
        "collapsed": true,
        "id": "lo2G2SQ2BIGH",
        "outputId": "f07fd769-449b-4273-a45b-574c25455778"
      },
      "execution_count": 66,
      "outputs": [
        {
          "output_type": "execute_result",
          "data": {
            "text/plain": [
              "<bound method Module.parameters of Model(\n",
              "  (fc1): Linear(in_features=4, out_features=8, bias=True)\n",
              "  (fc2): Linear(in_features=8, out_features=9, bias=True)\n",
              "  (out): Linear(in_features=9, out_features=3, bias=True)\n",
              ")>"
            ],
            "text/html": [
              "<div style=\"max-width:800px; border: 1px solid var(--colab-border-color);\"><style>\n",
              "      pre.function-repr-contents {\n",
              "        overflow-x: auto;\n",
              "        padding: 8px 12px;\n",
              "        max-height: 500px;\n",
              "      }\n",
              "\n",
              "      pre.function-repr-contents.function-repr-contents-collapsed {\n",
              "        cursor: pointer;\n",
              "        max-height: 100px;\n",
              "      }\n",
              "    </style>\n",
              "    <pre style=\"white-space: initial; background:\n",
              "         var(--colab-secondary-surface-color); padding: 8px 12px;\n",
              "         border-bottom: 1px solid var(--colab-border-color);\"><b>torch.nn.modules.module.Module.parameters</b><br/>def parameters(recurse: bool=True) -&gt; Iterator[Parameter]</pre><pre class=\"function-repr-contents function-repr-contents-collapsed\" style=\"\"><a class=\"filepath\" style=\"display:none\" href=\"#\">/usr/local/lib/python3.11/dist-packages/torch/nn/modules/module.py</a>Return an iterator over module parameters.\n",
              "\n",
              "This is typically passed to an optimizer.\n",
              "\n",
              "Args:\n",
              "    recurse (bool): if True, then yields parameters of this module\n",
              "        and all submodules. Otherwise, yields only parameters that\n",
              "        are direct members of this module.\n",
              "\n",
              "Yields:\n",
              "    Parameter: module parameter\n",
              "\n",
              "Example::\n",
              "\n",
              "    &gt;&gt;&gt; # xdoctest: +SKIP(&quot;undefined vars&quot;)\n",
              "    &gt;&gt;&gt; for param in model.parameters():\n",
              "    &gt;&gt;&gt;     print(type(param), param.size())\n",
              "    &lt;class &#x27;torch.Tensor&#x27;&gt; (20L,)\n",
              "    &lt;class &#x27;torch.Tensor&#x27;&gt; (20L, 1L, 5L, 5L)</pre>\n",
              "      <script>\n",
              "      if (google.colab.kernel.accessAllowed && google.colab.files && google.colab.files.view) {\n",
              "        for (const element of document.querySelectorAll('.filepath')) {\n",
              "          element.style.display = 'block'\n",
              "          element.onclick = (event) => {\n",
              "            event.preventDefault();\n",
              "            event.stopPropagation();\n",
              "            google.colab.files.view(element.textContent, 2608);\n",
              "          };\n",
              "        }\n",
              "      }\n",
              "      for (const element of document.querySelectorAll('.function-repr-contents')) {\n",
              "        element.onclick = (event) => {\n",
              "          event.preventDefault();\n",
              "          event.stopPropagation();\n",
              "          element.classList.toggle('function-repr-contents-collapsed');\n",
              "        };\n",
              "      }\n",
              "      </script>\n",
              "      </div>"
            ]
          },
          "metadata": {},
          "execution_count": 66
        }
      ]
    },
    {
      "cell_type": "code",
      "source": [
        "# Train our model\n",
        "epoch =100 # one run through all the training data in our network\n",
        "losses = []\n",
        "for i in range(epoch):\n",
        "  y_pred = model.forward(X_train) # get prediction result\n",
        "  loss = criterion(y_pred,y_train) # messsure loss/error\n",
        "  losses.append(loss.detach().numpy()) # keep trach of our loss\n",
        "\n",
        "  # print every 10 epochs\n",
        "  if i%10==0:\n",
        "    print(f\"Epoch number: {i} with loss: {loss}\")\n",
        "\n",
        "  # do a some back propagation\n",
        "  # fine tune wegights\n",
        "  optimizer.zero_grad()\n",
        "  loss.backward()\n",
        "  optimizer.step()\n"
      ],
      "metadata": {
        "colab": {
          "base_uri": "https://localhost:8080/"
        },
        "id": "zoRP8HAlBK3O",
        "outputId": "a915f752-8900-4158-aeb5-ec229c73687b"
      },
      "execution_count": 67,
      "outputs": [
        {
          "output_type": "stream",
          "name": "stdout",
          "text": [
            "Epoch number: 0 with loss: 1.1251550912857056\n",
            "Epoch number: 10 with loss: 1.0096259117126465\n",
            "Epoch number: 20 with loss: 0.8157405853271484\n",
            "Epoch number: 30 with loss: 0.585706353187561\n",
            "Epoch number: 40 with loss: 0.3999636471271515\n",
            "Epoch number: 50 with loss: 0.26768800616264343\n",
            "Epoch number: 60 with loss: 0.17942361533641815\n",
            "Epoch number: 70 with loss: 0.12151690572500229\n",
            "Epoch number: 80 with loss: 0.0860118493437767\n",
            "Epoch number: 90 with loss: 0.06520850956439972\n"
          ]
        }
      ]
    },
    {
      "cell_type": "code",
      "source": [
        "# Graph\n",
        "plt.plot(range(epoch),losses)\n",
        "plt.ylabel(\"loss/error\")\n",
        "plt.xlabel(\"epoch\")"
      ],
      "metadata": {
        "colab": {
          "base_uri": "https://localhost:8080/",
          "height": 466
        },
        "id": "VwPpORnoCpxs",
        "outputId": "7e9c1985-1011-41a8-f78b-79342bee874a"
      },
      "execution_count": 68,
      "outputs": [
        {
          "output_type": "execute_result",
          "data": {
            "text/plain": [
              "Text(0.5, 0, 'epoch')"
            ]
          },
          "metadata": {},
          "execution_count": 68
        },
        {
          "output_type": "display_data",
          "data": {
            "text/plain": [
              "<Figure size 640x480 with 1 Axes>"
            ],
            "image/png": "[encoded data removed]"
          },
          "metadata": {}
        }
      ]
    },
    {
      "cell_type": "markdown",
      "source": [
        "**Evaluation**"
      ],
      "metadata": {
        "id": "pWetB1_sNsM9"
      }
    },
    {
      "cell_type": "code",
      "source": [
        "# evaluate model on test Dataset\n",
        "with torch.no_grad(): # trun off backpropagation\n",
        "  y_eval = model.forward(X_test) # def forward function\n",
        "  loss = criterion(y_eval,y_test) # find loss or error"
      ],
      "metadata": {
        "id": "mcW8T80dDM4r"
      },
      "execution_count": 69,
      "outputs": []
    },
    {
      "cell_type": "code",
      "source": [
        "loss"
      ],
      "metadata": {
        "colab": {
          "base_uri": "https://localhost:8080/"
        },
        "id": "hByFLbR5LqUJ",
        "outputId": "1a28f154-d767-4ea0-afe7-1928c2543c7d"
      },
      "execution_count": 70,
      "outputs": [
        {
          "output_type": "execute_result",
          "data": {
            "text/plain": [
              "tensor(0.1315)"
            ]
          },
          "metadata": {},
          "execution_count": 70
        }
      ]
    },
    {
      "cell_type": "code",
      "source": [
        "correct =0\n",
        "with torch.no_grad():\n",
        "  for i,data in enumerate(X_test):\n",
        "    y_val = model.forward(data)\n",
        "\n",
        "    # if y_test[i]==0:\n",
        "\n",
        "    # will tell us what type of flower class our netork\n",
        "    print(f\"{i+1:2}. {str(y_val):38} {y_test[i]} \\t {y_val.argmax().item()}\")\n",
        "    if y_val.argmax().item()==y_test[i]:\n",
        "      correct+=1\n",
        "print(f\"{correct} out of {len(y_test)} = {100*correct/len(y_test):.2f}%\")"
      ],
      "metadata": {
        "colab": {
          "base_uri": "https://localhost:8080/"
        },
        "id": "nsMlUz2ZLsQ6",
        "outputId": "5cb0e4f0-bda1-4678-c55d-8303af286fd1"
      },
      "execution_count": 73,
      "outputs": [
        {
          "output_type": "stream",
          "name": "stdout",
          "text": [
            " 1. tensor([-5.8760,  4.4628,  6.5124])    2 \t 2\n",
            " 2. tensor([-7.5436,  4.1670,  9.7255])    2 \t 2\n",
            " 3. tensor([-8.4504,  5.1271, 10.1987])    2 \t 2\n",
            " 4. tensor([-4.3398,  5.6267,  2.5608])    1 \t 1\n",
            " 5. tensor([-7.1825,  4.8754,  8.2992])    2 \t 2\n",
            " 6. tensor([-3.3974,  5.3463,  1.2803])    1 \t 1\n",
            " 7. tensor([-5.9231,  4.9822,  5.9997])    2 \t 2\n",
            " 8. tensor([-4.2881,  5.7003,  2.3889])    1 \t 1\n",
            " 9. tensor([-6.5356,  4.9257,  7.1260])    2 \t 2\n",
            "10. tensor([-8.0509,  4.4129, 10.3286])    2 \t 2\n",
            "11. tensor([-5.6762,  4.9500,  5.6215])    2 \t 2\n",
            "12. tensor([ 4.5662, -2.2476, -2.8911])    0 \t 0\n",
            "13. tensor([ 4.2571, -1.9967, -2.7330])    0 \t 0\n",
            "14. tensor([-2.1108,  4.0515,  0.5799])    1 \t 1\n",
            "15. tensor([ 3.4575, -1.2098, -2.3514])    0 \t 0\n",
            "16. tensor([-5.4724,  5.1165,  5.0934])    2 \t 1\n",
            "17. tensor([ 4.0557, -1.7949, -2.6492])    0 \t 0\n",
            "18. tensor([-5.8075,  4.6053,  6.2458])    1 \t 2\n",
            "19. tensor([ 4.4343, -2.1392, -2.8242])    0 \t 0\n",
            "20. tensor([ 3.4528, -1.2514, -2.3660])    0 \t 0\n",
            "21. tensor([-2.6189,  4.5619,  0.8574])    1 \t 1\n",
            "22. tensor([-7.7412,  4.7377,  9.4199])    2 \t 2\n",
            "23. tensor([ 3.5744, -1.3221, -2.4135])    0 \t 0\n",
            "24. tensor([ 4.5365, -2.2383, -2.8684])    0 \t 0\n",
            "25. tensor([-2.6579,  4.6177,  0.8823])    1 \t 1\n",
            "26. tensor([-3.2865,  5.2229,  1.2164])    1 \t 1\n",
            "27. tensor([-4.6514,  5.7776,  2.9273])    1 \t 1\n",
            "28. tensor([-2.9464,  4.8892,  1.0379])    1 \t 1\n",
            "29. tensor([ 4.5847, -2.2687, -2.8974])    0 \t 0\n",
            "30. tensor([-4.5784,  5.4554,  3.1660])    1 \t 1\n",
            "28 out of 30 = 93.33%\n"
          ]
        }
      ]
    },
    {
      "cell_type": "markdown",
      "source": [
        "**New Data for prediction**"
      ],
      "metadata": {
        "id": "hzXvw9XpNxp6"
      }
    },
    {
      "cell_type": "code",
      "source": [
        "new_iris = torch.tensor([5.6,3.7,2.2,2.2])"
      ],
      "metadata": {
        "id": "PHwdCcj4NwJG"
      },
      "execution_count": 75,
      "outputs": []
    },
    {
      "cell_type": "code",
      "source": [
        "with torch.no_grad():\n",
        "  print(model.forward(new_iris))\n",
        "  print(model(new_iris))\n",
        "  print(model.forward(new_iris).argmax().item())"
      ],
      "metadata": {
        "colab": {
          "base_uri": "https://localhost:8080/"
        },
        "id": "D0YphEx_Md60",
        "outputId": "359bb2a8-3c48-4c3b-ccec-dfc62ad91e84"
      },
      "execution_count": 77,
      "outputs": [
        {
          "output_type": "stream",
          "name": "stdout",
          "text": [
            "tensor([-1.5967,  3.6569,  0.3231])\n",
            "tensor([-1.5967,  3.6569,  0.3231])\n",
            "1\n"
          ]
        }
      ]
    },
    {
      "cell_type": "markdown",
      "source": [
        "**Save our NN model**"
      ],
      "metadata": {
        "id": "oaNyBF2pPP6A"
      }
    },
    {
      "cell_type": "code",
      "source": [
        "torch.save(model.state_dict(),\"iris_model.pt\")"
      ],
      "metadata": {
        "id": "bsfUnfbvPFqu"
      },
      "execution_count": 78,
      "outputs": []
    },
    {
      "cell_type": "code",
      "source": [
        "# Loar save model\n",
        "new_model = Model()\n",
        "new_model.load_state_dict(torch.load(\"iris_model.pt\"))"
      ],
      "metadata": {
        "colab": {
          "base_uri": "https://localhost:8080/"
        },
        "id": "Fv7aV14TPrFH",
        "outputId": "1c76f8e3-394d-4d35-efc7-5a8f01893656"
      },
      "execution_count": 79,
      "outputs": [
        {
          "output_type": "execute_result",
          "data": {
            "text/plain": [
              "<All keys matched successfully>"
            ]
          },
          "metadata": {},
          "execution_count": 79
        }
      ]
    },
    {
      "cell_type": "code",
      "source": [
        "# make sure it loaded correctly\n",
        "new_model.eval()"
      ],
      "metadata": {
        "colab": {
          "base_uri": "https://localhost:8080/"
        },
        "id": "bNkE1wTOP4Hb",
        "outputId": "37bfaffc-cf5e-4927-8861-6e86c60b6e2d"
      },
      "execution_count": 80,
      "outputs": [
        {
          "output_type": "execute_result",
          "data": {
            "text/plain": [
              "Model(\n",
              "  (fc1): Linear(in_features=4, out_features=8, bias=True)\n",
              "  (fc2): Linear(in_features=8, out_features=9, bias=True)\n",
              "  (out): Linear(in_features=9, out_features=3, bias=True)\n",
              ")"
            ]
          },
          "metadata": {},
          "execution_count": 80
        }
      ]
    },
    {
      "cell_type": "markdown",
      "source": [
        "**Convolution NN**"
      ],
      "metadata": {
        "id": "Da4s3fXxQTZ5"
      }
    },
    {
      "cell_type": "code",
      "source": [
        "# classifying Images\n",
        "# handwritten numbers"
      ],
      "metadata": {
        "id": "-mJu844nQHx1"
      },
      "execution_count": null,
      "outputs": []
    },
    {
      "cell_type": "markdown",
      "source": [
        "![image.png](data:image/png;base64,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)"
      ],
      "metadata": {
        "id": "F78ilomlRRsD"
      }
    },
    {
      "cell_type": "markdown",
      "source": [
        "![image.png](data:image/png;base64,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)"
      ],
      "metadata": {
        "id": "UE8GrHojSeAM"
      }
    },
    {
      "cell_type": "code",
      "source": [
        "# convolution nn are local connectivity- not fully connected\n",
        "#  as like fully coonected layer but in\n",
        "# convolution layer not fully connected\n",
        "# kernal filter\n",
        "#Hight,with ,color channel(RGB)- 3D"
      ],
      "metadata": {
        "id": "chZJBTB1RTVx"
      },
      "execution_count": null,
      "outputs": []
    },
    {
      "cell_type": "code",
      "source": [
        "# # pooling\n",
        "# downsample/subsample,maxpooling,average pooling"
      ],
      "metadata": {
        "id": "K44qRrWNWLsk"
      },
      "execution_count": null,
      "outputs": []
    },
    {
      "cell_type": "markdown",
      "source": [
        "![image.png](data:image/png;base64,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)"
      ],
      "metadata": {
        "id": "GxzH_iGxWW9-"
      }
    },
    {
      "cell_type": "code",
      "source": [],
      "metadata": {
        "id": "QAwrf3CIWY-2"
      },
      "execution_count": null,
      "outputs": []
    }
  ]
}